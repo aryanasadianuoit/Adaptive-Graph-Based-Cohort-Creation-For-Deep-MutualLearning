{
  "nbformat": 4,
  "nbformat_minor": 0,
  "metadata": {
    "colab": {
      "name": "KDCopy.ipynb",
      "provenance": [],
      "authorship_tag": "ABX9TyOY27NzErgR7wIxUzTB9UWl",
      "include_colab_link": true
    },
    "kernelspec": {
      "name": "python3",
      "display_name": "Python 3"
    },
    "accelerator": "GPU"
  },
  "cells": [
    {
      "cell_type": "markdown",
      "metadata": {
        "id": "view-in-github",
        "colab_type": "text"
      },
      "source": [
        "<a href=\"https://colab.research.google.com/github/aryanasadianuoit/Adaptive-Graph-Based-Cohort-Creation-For-Deep-MutualLearning/blob/master/KDCopy.ipynb\" target=\"_parent\"><img src=\"https://colab.research.google.com/assets/colab-badge.svg\" alt=\"Open In Colab\"/></a>"
      ]
    },
    {
      "cell_type": "code",
      "metadata": {
        "id": "A-AJnCtYTptr",
        "colab_type": "code",
        "colab": {}
      },
      "source": [
        "import tensorflow as tf\n",
        "import matplotlib.pyplot as plt \n",
        "import numpy as np\n",
        "from tensorflow import keras\n",
        "from tensorflow.keras.models import Sequential, load_model, Model\n",
        "from tensorflow.keras.layers import Conv2D,GlobalAveragePooling2D,Dense,Softmax,Flatten,MaxPooling2D,Dropout,Activation, Lambda, concatenate\n",
        "from tensorflow.keras.callbacks import ModelCheckpoint\n",
        "from tensorflow.keras.losses import kullback_leibler_divergence as KLD_Loss, categorical_crossentropy as logloss\n",
        "from tensorflow.keras.utils import to_categorical\n",
        "from tensorflow.keras.metrics import categorical_accuracy\n",
        "import seaborn as sns"
      ],
      "execution_count": 19,
      "outputs": []
    },
    {
      "cell_type": "code",
      "metadata": {
        "id": "41pBG4YiT1SU",
        "colab_type": "code",
        "colab": {
          "base_uri": "https://localhost:8080/",
          "height": 68
        },
        "outputId": "98fec4eb-4a24-4784-a10c-08ffe1f54016"
      },
      "source": [
        "NUM_CLASSES = 10\n",
        "(x_train, y_train), (x_test, y_test) = tf.keras.datasets.cifar10.load_data()\n",
        "print(\"x_train shape:\", x_train.shape, \"y_train shape:\", y_train.shape)\n",
        "\n",
        "# Normalize the dataset\n",
        "x_train = x_train.astype('float32') / 255\n",
        "x_test = x_test.astype('float32') / 255\n",
        "\n",
        "# Reshape each example to WIDTH*HEIGHT*CHANNELS for Convolution operation\n",
        "# x_test = x_test.reshape(-1,,28,1)\n",
        "# x_train = x_train.reshape(-1,28,28,1)"
      ],
      "execution_count": 2,
      "outputs": [
        {
          "output_type": "stream",
          "text": [
            "Downloading data from https://www.cs.toronto.edu/~kriz/cifar-10-python.tar.gz\n",
            "170500096/170498071 [==============================] - 6s 0us/step\n",
            "x_train shape: (50000, 32, 32, 3) y_train shape: (50000, 1)\n"
          ],
          "name": "stdout"
        }
      ]
    },
    {
      "cell_type": "code",
      "metadata": {
        "id": "L9i9Nvn_T_Jz",
        "colab_type": "code",
        "colab": {
          "base_uri": "https://localhost:8080/",
          "height": 493
        },
        "outputId": "457b7419-8b89-403a-909e-fe36fd9a1b3b"
      },
      "source": [
        "Teacher = Sequential() # Must define the input shape in the first layer of the neural network\n",
        "Teacher.add(Conv2D(filters=32, kernel_size=2, padding='same', activation='relu', input_shape=(32,32,3)))\n",
        "Teacher.add(MaxPooling2D(pool_size=2))\n",
        "Teacher.add(Conv2D(filters=64, kernel_size=2, padding='same', activation='relu'))\n",
        "Teacher.add(MaxPooling2D(pool_size=2))\n",
        "Teacher.add(Flatten())\n",
        "Teacher.add(Dense(256, activation='relu'))\n",
        "Teacher.add(Dense(64, activation='relu',name=\"teacher_target_layer\"))\n",
        "Teacher.add(Dropout(0.5))\n",
        "Teacher.add(Dense(10))\n",
        "Teacher.add(Activation('softmax'))\n",
        "\n",
        "Teacher.compile(loss='sparse_categorical_crossentropy',\n",
        "             optimizer='adam',\n",
        "             metrics=['accuracy'])\n",
        "\n",
        "# Take a look at the model summary\n",
        "\n",
        "Teacher.summary()"
      ],
      "execution_count": 51,
      "outputs": [
        {
          "output_type": "stream",
          "text": [
            "Model: \"sequential_16\"\n",
            "_________________________________________________________________\n",
            "Layer (type)                 Output Shape              Param #   \n",
            "=================================================================\n",
            "conv2d_13 (Conv2D)           (None, 32, 32, 32)        416       \n",
            "_________________________________________________________________\n",
            "max_pooling2d_13 (MaxPooling (None, 16, 16, 32)        0         \n",
            "_________________________________________________________________\n",
            "conv2d_14 (Conv2D)           (None, 16, 16, 64)        8256      \n",
            "_________________________________________________________________\n",
            "max_pooling2d_14 (MaxPooling (None, 8, 8, 64)          0         \n",
            "_________________________________________________________________\n",
            "flatten_16 (Flatten)         (None, 4096)              0         \n",
            "_________________________________________________________________\n",
            "dense_26 (Dense)             (None, 256)               1048832   \n",
            "_________________________________________________________________\n",
            "teacher_target_layer (Dense) (None, 64)                16448     \n",
            "_________________________________________________________________\n",
            "dropout_3 (Dropout)          (None, 64)                0         \n",
            "_________________________________________________________________\n",
            "dense_27 (Dense)             (None, 10)                650       \n",
            "_________________________________________________________________\n",
            "activation_31 (Activation)   (None, 10)                0         \n",
            "=================================================================\n",
            "Total params: 1,074,602\n",
            "Trainable params: 1,074,602\n",
            "Non-trainable params: 0\n",
            "_________________________________________________________________\n"
          ],
          "name": "stdout"
        }
      ]
    },
    {
      "cell_type": "code",
      "metadata": {
        "id": "E_NCzmr-UDof",
        "colab_type": "code",
        "colab": {
          "base_uri": "https://localhost:8080/",
          "height": 1000
        },
        "outputId": "8a9546dc-c5a9-4d95-d7bc-d26abd5e12d6"
      },
      "source": [
        "myCP = ModelCheckpoint(save_best_only=True,filepath='teacher.h5',monitor = 'val_acc')\n",
        "Teacher.fit(x_train,\n",
        "         y_train,\n",
        "         batch_size=128,\n",
        "         epochs=20,\n",
        "         validation_split = 0.2,\n",
        "         callbacks=[myCP])"
      ],
      "execution_count": 38,
      "outputs": [
        {
          "output_type": "stream",
          "text": [
            "Epoch 1/20\n",
            "306/313 [============================>.] - ETA: 0s - loss: 1.8144 - accuracy: 0.3375WARNING:tensorflow:Can save best model only with val_acc available, skipping.\n",
            "313/313 [==============================] - 3s 9ms/step - loss: 1.8089 - accuracy: 0.3393 - val_loss: 1.4214 - val_accuracy: 0.5014\n",
            "Epoch 2/20\n",
            "310/313 [============================>.] - ETA: 0s - loss: 1.4258 - accuracy: 0.4935WARNING:tensorflow:Can save best model only with val_acc available, skipping.\n",
            "313/313 [==============================] - 3s 8ms/step - loss: 1.4270 - accuracy: 0.4933 - val_loss: 1.2151 - val_accuracy: 0.5774\n",
            "Epoch 3/20\n",
            "306/313 [============================>.] - ETA: 0s - loss: 1.2590 - accuracy: 0.5548WARNING:tensorflow:Can save best model only with val_acc available, skipping.\n",
            "313/313 [==============================] - 3s 9ms/step - loss: 1.2571 - accuracy: 0.5552 - val_loss: 1.1117 - val_accuracy: 0.6134\n",
            "Epoch 4/20\n",
            "308/313 [============================>.] - ETA: 0s - loss: 1.1281 - accuracy: 0.6051WARNING:tensorflow:Can save best model only with val_acc available, skipping.\n",
            "313/313 [==============================] - 3s 8ms/step - loss: 1.1281 - accuracy: 0.6049 - val_loss: 1.0769 - val_accuracy: 0.6155\n",
            "Epoch 5/20\n",
            "313/313 [==============================] - ETA: 0s - loss: 1.0394 - accuracy: 0.6418WARNING:tensorflow:Can save best model only with val_acc available, skipping.\n",
            "313/313 [==============================] - 3s 8ms/step - loss: 1.0394 - accuracy: 0.6418 - val_loss: 1.0057 - val_accuracy: 0.6497\n",
            "Epoch 6/20\n",
            "309/313 [============================>.] - ETA: 0s - loss: 0.9669 - accuracy: 0.6650WARNING:tensorflow:Can save best model only with val_acc available, skipping.\n",
            "313/313 [==============================] - 3s 8ms/step - loss: 0.9668 - accuracy: 0.6653 - val_loss: 0.9448 - val_accuracy: 0.6646\n",
            "Epoch 7/20\n",
            "309/313 [============================>.] - ETA: 0s - loss: 0.8981 - accuracy: 0.6925WARNING:tensorflow:Can save best model only with val_acc available, skipping.\n",
            "313/313 [==============================] - 3s 8ms/step - loss: 0.8976 - accuracy: 0.6925 - val_loss: 0.9180 - val_accuracy: 0.6793\n",
            "Epoch 8/20\n",
            "310/313 [============================>.] - ETA: 0s - loss: 0.8318 - accuracy: 0.7138WARNING:tensorflow:Can save best model only with val_acc available, skipping.\n",
            "313/313 [==============================] - 3s 8ms/step - loss: 0.8321 - accuracy: 0.7138 - val_loss: 0.8902 - val_accuracy: 0.6891\n",
            "Epoch 9/20\n",
            "310/313 [============================>.] - ETA: 0s - loss: 0.7772 - accuracy: 0.7346WARNING:tensorflow:Can save best model only with val_acc available, skipping.\n",
            "313/313 [==============================] - 3s 8ms/step - loss: 0.7775 - accuracy: 0.7346 - val_loss: 0.9182 - val_accuracy: 0.6868\n",
            "Epoch 10/20\n",
            "308/313 [============================>.] - ETA: 0s - loss: 0.7236 - accuracy: 0.7528WARNING:tensorflow:Can save best model only with val_acc available, skipping.\n",
            "313/313 [==============================] - 3s 8ms/step - loss: 0.7227 - accuracy: 0.7531 - val_loss: 0.9108 - val_accuracy: 0.6916\n",
            "Epoch 11/20\n",
            "311/313 [============================>.] - ETA: 0s - loss: 0.6688 - accuracy: 0.7701WARNING:tensorflow:Can save best model only with val_acc available, skipping.\n",
            "313/313 [==============================] - 3s 8ms/step - loss: 0.6692 - accuracy: 0.7700 - val_loss: 0.9248 - val_accuracy: 0.6963\n",
            "Epoch 12/20\n",
            "312/313 [============================>.] - ETA: 0s - loss: 0.6223 - accuracy: 0.7873WARNING:tensorflow:Can save best model only with val_acc available, skipping.\n",
            "313/313 [==============================] - 3s 8ms/step - loss: 0.6225 - accuracy: 0.7872 - val_loss: 0.9275 - val_accuracy: 0.6963\n",
            "Epoch 13/20\n",
            "308/313 [============================>.] - ETA: 0s - loss: 0.5711 - accuracy: 0.8046WARNING:tensorflow:Can save best model only with val_acc available, skipping.\n",
            "313/313 [==============================] - 3s 8ms/step - loss: 0.5715 - accuracy: 0.8048 - val_loss: 0.9404 - val_accuracy: 0.7044\n",
            "Epoch 14/20\n",
            "306/313 [============================>.] - ETA: 0s - loss: 0.5228 - accuracy: 0.8208WARNING:tensorflow:Can save best model only with val_acc available, skipping.\n",
            "313/313 [==============================] - 3s 8ms/step - loss: 0.5215 - accuracy: 0.8213 - val_loss: 0.9629 - val_accuracy: 0.7071\n",
            "Epoch 15/20\n",
            "307/313 [============================>.] - ETA: 0s - loss: 0.4704 - accuracy: 0.8374WARNING:tensorflow:Can save best model only with val_acc available, skipping.\n",
            "313/313 [==============================] - 3s 8ms/step - loss: 0.4717 - accuracy: 0.8371 - val_loss: 0.9934 - val_accuracy: 0.7050\n",
            "Epoch 16/20\n",
            "307/313 [============================>.] - ETA: 0s - loss: 0.4287 - accuracy: 0.8524WARNING:tensorflow:Can save best model only with val_acc available, skipping.\n",
            "313/313 [==============================] - 3s 8ms/step - loss: 0.4292 - accuracy: 0.8521 - val_loss: 1.0080 - val_accuracy: 0.6998\n",
            "Epoch 17/20\n",
            "308/313 [============================>.] - ETA: 0s - loss: 0.3855 - accuracy: 0.8662WARNING:tensorflow:Can save best model only with val_acc available, skipping.\n",
            "313/313 [==============================] - 3s 8ms/step - loss: 0.3853 - accuracy: 0.8662 - val_loss: 1.0557 - val_accuracy: 0.7075\n",
            "Epoch 18/20\n",
            "307/313 [============================>.] - ETA: 0s - loss: 0.3485 - accuracy: 0.8793WARNING:tensorflow:Can save best model only with val_acc available, skipping.\n",
            "313/313 [==============================] - 3s 8ms/step - loss: 0.3497 - accuracy: 0.8787 - val_loss: 1.0752 - val_accuracy: 0.7047\n",
            "Epoch 19/20\n",
            "306/313 [============================>.] - ETA: 0s - loss: 0.3208 - accuracy: 0.8898WARNING:tensorflow:Can save best model only with val_acc available, skipping.\n",
            "313/313 [==============================] - 3s 8ms/step - loss: 0.3216 - accuracy: 0.8895 - val_loss: 1.1800 - val_accuracy: 0.6946\n",
            "Epoch 20/20\n",
            "306/313 [============================>.] - ETA: 0s - loss: 0.2868 - accuracy: 0.9027WARNING:tensorflow:Can save best model only with val_acc available, skipping.\n",
            "313/313 [==============================] - 3s 8ms/step - loss: 0.2871 - accuracy: 0.9024 - val_loss: 1.2416 - val_accuracy: 0.7034\n"
          ],
          "name": "stdout"
        },
        {
          "output_type": "execute_result",
          "data": {
            "text/plain": [
              "<tensorflow.python.keras.callbacks.History at 0x7fa966125400>"
            ]
          },
          "metadata": {
            "tags": []
          },
          "execution_count": 38
        }
      ]
    },
    {
      "cell_type": "code",
      "metadata": {
        "id": "7M0QrDRLUU02",
        "colab_type": "code",
        "colab": {
          "base_uri": "https://localhost:8080/",
          "height": 375
        },
        "outputId": "078b9180-f7a9-44eb-ec7b-c74f7b67937a"
      },
      "source": [
        "# Retrieve best model from saved\n",
        "Teacher = load_model('teacher.h5')\n",
        "\n",
        "# Evaluation with test set\n",
        "Teacher.evaluate(x_test,y_test)"
      ],
      "execution_count": 39,
      "outputs": [
        {
          "output_type": "error",
          "ename": "OSError",
          "evalue": "ignored",
          "traceback": [
            "\u001b[0;31m---------------------------------------------------------------------------\u001b[0m",
            "\u001b[0;31mOSError\u001b[0m                                   Traceback (most recent call last)",
            "\u001b[0;32m<ipython-input-39-8050b500856f>\u001b[0m in \u001b[0;36m<module>\u001b[0;34m()\u001b[0m\n\u001b[1;32m      1\u001b[0m \u001b[0;31m# Retrieve best model from saved\u001b[0m\u001b[0;34m\u001b[0m\u001b[0;34m\u001b[0m\u001b[0;34m\u001b[0m\u001b[0m\n\u001b[0;32m----> 2\u001b[0;31m \u001b[0mTeacher\u001b[0m \u001b[0;34m=\u001b[0m \u001b[0mload_model\u001b[0m\u001b[0;34m(\u001b[0m\u001b[0;34m'teacher.h5'\u001b[0m\u001b[0;34m)\u001b[0m\u001b[0;34m\u001b[0m\u001b[0;34m\u001b[0m\u001b[0m\n\u001b[0m\u001b[1;32m      3\u001b[0m \u001b[0;34m\u001b[0m\u001b[0m\n\u001b[1;32m      4\u001b[0m \u001b[0;31m# Evaluation with test set\u001b[0m\u001b[0;34m\u001b[0m\u001b[0;34m\u001b[0m\u001b[0;34m\u001b[0m\u001b[0m\n\u001b[1;32m      5\u001b[0m \u001b[0mTeacher\u001b[0m\u001b[0;34m.\u001b[0m\u001b[0mevaluate\u001b[0m\u001b[0;34m(\u001b[0m\u001b[0mx_test\u001b[0m\u001b[0;34m,\u001b[0m\u001b[0my_test\u001b[0m\u001b[0;34m)\u001b[0m\u001b[0;34m\u001b[0m\u001b[0;34m\u001b[0m\u001b[0m\n",
            "\u001b[0;32m/usr/local/lib/python3.6/dist-packages/tensorflow/python/keras/saving/save.py\u001b[0m in \u001b[0;36mload_model\u001b[0;34m(filepath, custom_objects, compile)\u001b[0m\n\u001b[1;32m    187\u001b[0m       \u001b[0mfilepath\u001b[0m \u001b[0;34m=\u001b[0m \u001b[0mstr\u001b[0m\u001b[0;34m(\u001b[0m\u001b[0mfilepath\u001b[0m\u001b[0;34m)\u001b[0m\u001b[0;34m\u001b[0m\u001b[0;34m\u001b[0m\u001b[0m\n\u001b[1;32m    188\u001b[0m     \u001b[0;32mif\u001b[0m \u001b[0misinstance\u001b[0m\u001b[0;34m(\u001b[0m\u001b[0mfilepath\u001b[0m\u001b[0;34m,\u001b[0m \u001b[0msix\u001b[0m\u001b[0;34m.\u001b[0m\u001b[0mstring_types\u001b[0m\u001b[0;34m)\u001b[0m\u001b[0;34m:\u001b[0m\u001b[0;34m\u001b[0m\u001b[0;34m\u001b[0m\u001b[0m\n\u001b[0;32m--> 189\u001b[0;31m       \u001b[0mloader_impl\u001b[0m\u001b[0;34m.\u001b[0m\u001b[0mparse_saved_model\u001b[0m\u001b[0;34m(\u001b[0m\u001b[0mfilepath\u001b[0m\u001b[0;34m)\u001b[0m\u001b[0;34m\u001b[0m\u001b[0;34m\u001b[0m\u001b[0m\n\u001b[0m\u001b[1;32m    190\u001b[0m       \u001b[0;32mreturn\u001b[0m \u001b[0msaved_model_load\u001b[0m\u001b[0;34m.\u001b[0m\u001b[0mload\u001b[0m\u001b[0;34m(\u001b[0m\u001b[0mfilepath\u001b[0m\u001b[0;34m,\u001b[0m \u001b[0mcompile\u001b[0m\u001b[0;34m)\u001b[0m\u001b[0;34m\u001b[0m\u001b[0;34m\u001b[0m\u001b[0m\n\u001b[1;32m    191\u001b[0m \u001b[0;34m\u001b[0m\u001b[0m\n",
            "\u001b[0;32m/usr/local/lib/python3.6/dist-packages/tensorflow/python/saved_model/loader_impl.py\u001b[0m in \u001b[0;36mparse_saved_model\u001b[0;34m(export_dir)\u001b[0m\n\u001b[1;32m    111\u001b[0m                   (export_dir,\n\u001b[1;32m    112\u001b[0m                    \u001b[0mconstants\u001b[0m\u001b[0;34m.\u001b[0m\u001b[0mSAVED_MODEL_FILENAME_PBTXT\u001b[0m\u001b[0;34m,\u001b[0m\u001b[0;34m\u001b[0m\u001b[0;34m\u001b[0m\u001b[0m\n\u001b[0;32m--> 113\u001b[0;31m                    constants.SAVED_MODEL_FILENAME_PB))\n\u001b[0m\u001b[1;32m    114\u001b[0m \u001b[0;34m\u001b[0m\u001b[0m\n\u001b[1;32m    115\u001b[0m \u001b[0;34m\u001b[0m\u001b[0m\n",
            "\u001b[0;31mOSError\u001b[0m: SavedModel file does not exist at: teacher.h5/{saved_model.pbtxt|saved_model.pb}"
          ]
        }
      ]
    },
    {
      "cell_type": "code",
      "metadata": {
        "id": "nhgWG89EUdpL",
        "colab_type": "code",
        "colab": {
          "base_uri": "https://localhost:8080/",
          "height": 724
        },
        "outputId": "6ab0dbcb-d29b-436b-b650-d78e9e008ed9"
      },
      "source": [
        "Teacher_logits = Model(Teacher.input,Teacher.layers[-2].output)\n",
        "\n",
        "logits_plot = []\n",
        "\n",
        "class_names = [\"airplane\",\"automobile\",\"bird\",\"cat\",\"deer\",\"dog\",\"frog\",\"horse\",\"ship\",\"truck\"]\t\t\t\t\t\t\t\t\t\t\n",
        "\n",
        "\n",
        "# Choose the item to visualize temperature\n",
        "item_idx = 7\n",
        "\n",
        "item_image = x_train[item_idx]\n",
        "\n",
        "plt.imshow(item_image)\n",
        "\n",
        "Temperatures = [1,5,10,20,35,50]\n",
        "\n",
        "\n",
        "for Temperature in Temperatures:\n",
        "  # Create temperature layer that produces logits with temperature\n",
        "  T_layer = Lambda(lambda x:x/Temperature)(Teacher_logits.output)\n",
        "  \n",
        "  # Create a softmax layer\n",
        "  Softmax_layer = Softmax()(T_layer)\n",
        "  # Add the teacher T_layer to the whole model\n",
        "  Teacher_logits_soften = Model(Teacher.input,Softmax_layer)\n",
        "                             \n",
        "  # Append for plotting\n",
        "  logits_plot.append(Teacher_logits_soften.predict(np.array([item_image])))\n",
        "  \n",
        "  plt.figure(figsize=(14, 6))\n",
        "for i in range(len(Temperatures)):\n",
        "  sns.lineplot(class_names,logits_plot[i][0],legend=\"full\")\n",
        "  plt.title('This is a '+ class_names[y_train[item_idx][0]])\n",
        "  plt.legend(Temperatures,title=\"Temperatures\")"
      ],
      "execution_count": 40,
      "outputs": [
        {
          "output_type": "display_data",
          "data": {
            "image/png": "[encoded data removed]",
            "text/plain": [
              "<Figure size 432x288 with 1 Axes>"
            ]
          },
          "metadata": {
            "tags": [],
            "needs_background": "light"
          }
        },
        {
          "output_type": "display_data",
          "data": {
            "text/plain": [
              "<Figure size 1008x432 with 0 Axes>"
            ]
          },
          "metadata": {
            "tags": []
          }
        },
        {
          "output_type": "display_data",
          "data": {
            "text/plain": [
              "<Figure size 1008x432 with 0 Axes>"
            ]
          },
          "metadata": {
            "tags": []
          }
        },
        {
          "output_type": "display_data",
          "data": {
            "text/plain": [
              "<Figure size 1008x432 with 0 Axes>"
            ]
          },
          "metadata": {
            "tags": []
          }
        },
        {
          "output_type": "display_data",
          "data": {
            "text/plain": [
              "<Figure size 1008x432 with 0 Axes>"
            ]
          },
          "metadata": {
            "tags": []
          }
        },
        {
          "output_type": "display_data",
          "data": {
            "text/plain": [
              "<Figure size 1008x432 with 0 Axes>"
            ]
          },
          "metadata": {
            "tags": []
          }
        },
        {
          "output_type": "display_data",
          "data": {
            "image/png": "[encoded data removed]",
            "text/plain": [
              "<Figure size 1008x432 with 1 Axes>"
            ]
          },
          "metadata": {
            "tags": [],
            "needs_background": "light"
          }
        }
      ]
    },
    {
      "cell_type": "code",
      "metadata": {
        "id": "YyGiIK5MUfN-",
        "colab_type": "code",
        "colab": {}
      },
      "source": [
        "Temperature = 3.25\n",
        "T_layer = Lambda(lambda x:x/Temperature)(Teacher_logits.output)\n",
        "Softmax_layer = Activation('softmax')(T_layer)\n",
        "Teacher_soften = Model(Teacher.input,Softmax_layer)"
      ],
      "execution_count": 41,
      "outputs": []
    },
    {
      "cell_type": "code",
      "metadata": {
        "id": "aVORyewSUkS_",
        "colab_type": "code",
        "colab": {}
      },
      "source": [
        "# Predict and convert to sparse categorical matrix\n",
        "y_train_new = Teacher_soften.predict(x_train)\n",
        "y_test_new = Teacher_soften.predict(x_test)\n",
        "\n",
        "y_train_new = np.c_[to_categorical(y_train),y_train_new]\n",
        "y_test_new = np.c_[to_categorical(y_test),y_test_new]"
      ],
      "execution_count": 42,
      "outputs": []
    },
    {
      "cell_type": "code",
      "metadata": {
        "id": "IASSn97HUmsM",
        "colab_type": "code",
        "colab": {
          "base_uri": "https://localhost:8080/",
          "height": 255
        },
        "outputId": "b49f1784-0d13-461f-8980-1be47870bf73"
      },
      "source": [
        "Student = Sequential() #a Must define the input shape in the first layer of the neural network\n",
        "Student.add(Flatten(input_shape=(32,32,3)))\n",
        "Student.add(Dense(64, activation='relu'))\n",
        "Student.add(Dense(10))\n",
        "Student.summary()"
      ],
      "execution_count": 43,
      "outputs": [
        {
          "output_type": "stream",
          "text": [
            "Model: \"sequential_14\"\n",
            "_________________________________________________________________\n",
            "Layer (type)                 Output Shape              Param #   \n",
            "=================================================================\n",
            "flatten_14 (Flatten)         (None, 3072)              0         \n",
            "_________________________________________________________________\n",
            "dense_23 (Dense)             (None, 64)                196672    \n",
            "_________________________________________________________________\n",
            "dense_24 (Dense)             (None, 10)                650       \n",
            "=================================================================\n",
            "Total params: 197,322\n",
            "Trainable params: 197,322\n",
            "Non-trainable params: 0\n",
            "_________________________________________________________________\n"
          ],
          "name": "stdout"
        }
      ]
    },
    {
      "cell_type": "code",
      "metadata": {
        "id": "Bxcfu8stUpRo",
        "colab_type": "code",
        "colab": {}
      },
      "source": [
        "student_logits = Student.layers[-1].output\n",
        "\n",
        "# Compute softmax\n",
        "probs = Activation(\"softmax\")(student_logits)\n",
        "\n",
        "# Compute softmax with softened logits\n",
        "logits_T = Lambda(lambda x:x/Temperature)(student_logits)\n",
        "probs_T = Activation(\"softmax\")(logits_T)\n",
        "\n",
        "CombinedLayers = concatenate([probs,probs_T])\n",
        "\n",
        "StudentModel = Model(Student.input,CombinedLayers)"
      ],
      "execution_count": 44,
      "outputs": []
    },
    {
      "cell_type": "code",
      "metadata": {
        "id": "RaY8N65JUsGx",
        "colab_type": "code",
        "colab": {}
      },
      "source": [
        "def KD_loss(y_true,y_pred,lambd=0.5,T=10.0):\n",
        "  y_true,y_true_KD = y_true[:,:NUM_CLASSES],y_true[:,NUM_CLASSES:]\n",
        "  y_pred,y_pred_KD = y_pred[:,:NUM_CLASSES],y_pred[:,NUM_CLASSES:]\n",
        "  # Classic cross-entropy (without temperature)\n",
        "  CE_loss = logloss(y_true,y_pred)\n",
        "  # KL-Divergence loss for softened output (with temperature)\n",
        "  KL_loss = T**2*KLD_Loss(y_true_KD,y_pred_KD)\n",
        "  \n",
        "  return lambd*CE_loss + (1-lambd)*KL_loss\n",
        "\n",
        "def accuracy(y_true,y_pred):\n",
        "  return categorical_accuracy(y_true,y_pred)"
      ],
      "execution_count": 45,
      "outputs": []
    },
    {
      "cell_type": "code",
      "metadata": {
        "id": "SkkDVZIdUubc",
        "colab_type": "code",
        "colab": {}
      },
      "source": [
        "StudentModel.compile(optimizer='adam',loss=lambda y_true,y_pred: KD_loss(y_true, y_pred,lambd=0.5,T=Temperature),metrics=[accuracy])\n"
      ],
      "execution_count": 46,
      "outputs": []
    },
    {
      "cell_type": "code",
      "metadata": {
        "id": "yLRPdEvoUxRn",
        "colab_type": "code",
        "colab": {
          "base_uri": "https://localhost:8080/",
          "height": 1000
        },
        "outputId": "64a9d4ec-78c8-45cd-db54-a23b25f03914"
      },
      "source": [
        "myCP = ModelCheckpoint(save_best_only=True,filepath='student.h5',monitor = 'val_accuracy')\n",
        "\n",
        "StudentModel.fit(x_train,y_train_new,epochs=50,validation_split=0.15,batch_size=128,callbacks=[myCP])"
      ],
      "execution_count": 47,
      "outputs": [
        {
          "output_type": "stream",
          "text": [
            "Epoch 1/50\n",
            "333/333 [==============================] - 1s 4ms/step - loss: 6.2276 - accuracy: 0.2961 - val_loss: 5.3265 - val_accuracy: 0.3439\n",
            "Epoch 2/50\n",
            "333/333 [==============================] - 1s 4ms/step - loss: 5.6305 - accuracy: 0.3607 - val_loss: 5.2260 - val_accuracy: 0.3528\n",
            "Epoch 3/50\n",
            "333/333 [==============================] - 1s 4ms/step - loss: 5.4593 - accuracy: 0.3772 - val_loss: 5.0748 - val_accuracy: 0.3632\n",
            "Epoch 4/50\n",
            "333/333 [==============================] - 1s 4ms/step - loss: 5.3474 - accuracy: 0.3839 - val_loss: 4.9114 - val_accuracy: 0.3693\n",
            "Epoch 5/50\n",
            "333/333 [==============================] - 1s 4ms/step - loss: 5.2401 - accuracy: 0.3935 - val_loss: 4.8622 - val_accuracy: 0.3713\n",
            "Epoch 6/50\n",
            "333/333 [==============================] - 1s 4ms/step - loss: 5.1711 - accuracy: 0.3975 - val_loss: 4.8344 - val_accuracy: 0.3716\n",
            "Epoch 7/50\n",
            "333/333 [==============================] - 1s 4ms/step - loss: 5.0980 - accuracy: 0.4044 - val_loss: 5.0355 - val_accuracy: 0.3497\n",
            "Epoch 8/50\n",
            "333/333 [==============================] - 1s 4ms/step - loss: 5.0724 - accuracy: 0.4040 - val_loss: 4.7536 - val_accuracy: 0.3843\n",
            "Epoch 9/50\n",
            "333/333 [==============================] - 1s 4ms/step - loss: 5.0184 - accuracy: 0.4088 - val_loss: 4.7044 - val_accuracy: 0.3924\n",
            "Epoch 10/50\n",
            "333/333 [==============================] - 1s 4ms/step - loss: 4.9831 - accuracy: 0.4122 - val_loss: 4.7099 - val_accuracy: 0.3889\n",
            "Epoch 11/50\n",
            "333/333 [==============================] - 1s 4ms/step - loss: 4.9218 - accuracy: 0.4137 - val_loss: 4.6353 - val_accuracy: 0.3983\n",
            "Epoch 12/50\n",
            "333/333 [==============================] - 1s 4ms/step - loss: 4.8787 - accuracy: 0.4212 - val_loss: 4.5633 - val_accuracy: 0.3960\n",
            "Epoch 13/50\n",
            "333/333 [==============================] - 1s 4ms/step - loss: 4.8464 - accuracy: 0.4235 - val_loss: 4.6806 - val_accuracy: 0.3821\n",
            "Epoch 14/50\n",
            "333/333 [==============================] - 1s 4ms/step - loss: 4.8337 - accuracy: 0.4256 - val_loss: 4.5194 - val_accuracy: 0.4027\n",
            "Epoch 15/50\n",
            "333/333 [==============================] - 1s 4ms/step - loss: 4.8051 - accuracy: 0.4245 - val_loss: 4.5253 - val_accuracy: 0.3960\n",
            "Epoch 16/50\n",
            "333/333 [==============================] - 1s 4ms/step - loss: 4.7773 - accuracy: 0.4288 - val_loss: 4.5136 - val_accuracy: 0.4065\n",
            "Epoch 17/50\n",
            "333/333 [==============================] - 1s 4ms/step - loss: 4.7597 - accuracy: 0.4304 - val_loss: 4.6431 - val_accuracy: 0.3959\n",
            "Epoch 18/50\n",
            "333/333 [==============================] - 1s 4ms/step - loss: 4.7504 - accuracy: 0.4296 - val_loss: 4.4539 - val_accuracy: 0.4093\n",
            "Epoch 19/50\n",
            "333/333 [==============================] - 1s 4ms/step - loss: 4.7129 - accuracy: 0.4337 - val_loss: 4.4491 - val_accuracy: 0.4068\n",
            "Epoch 20/50\n",
            "333/333 [==============================] - 1s 4ms/step - loss: 4.6784 - accuracy: 0.4355 - val_loss: 4.5053 - val_accuracy: 0.4103\n",
            "Epoch 21/50\n",
            "333/333 [==============================] - 1s 4ms/step - loss: 4.6843 - accuracy: 0.4347 - val_loss: 4.4922 - val_accuracy: 0.4043\n",
            "Epoch 22/50\n",
            "333/333 [==============================] - 1s 4ms/step - loss: 4.6586 - accuracy: 0.4376 - val_loss: 4.4463 - val_accuracy: 0.4037\n",
            "Epoch 23/50\n",
            "333/333 [==============================] - 1s 4ms/step - loss: 4.6508 - accuracy: 0.4372 - val_loss: 4.4384 - val_accuracy: 0.4092\n",
            "Epoch 24/50\n",
            "333/333 [==============================] - 1s 4ms/step - loss: 4.6251 - accuracy: 0.4406 - val_loss: 4.4479 - val_accuracy: 0.4016\n",
            "Epoch 25/50\n",
            "333/333 [==============================] - 1s 4ms/step - loss: 4.5972 - accuracy: 0.4412 - val_loss: 4.5385 - val_accuracy: 0.3997\n",
            "Epoch 26/50\n",
            "333/333 [==============================] - 1s 4ms/step - loss: 4.5928 - accuracy: 0.4411 - val_loss: 4.3927 - val_accuracy: 0.4212\n",
            "Epoch 27/50\n",
            "333/333 [==============================] - 1s 4ms/step - loss: 4.5836 - accuracy: 0.4424 - val_loss: 4.3760 - val_accuracy: 0.4192\n",
            "Epoch 28/50\n",
            "333/333 [==============================] - 1s 4ms/step - loss: 4.5835 - accuracy: 0.4416 - val_loss: 4.6502 - val_accuracy: 0.3969\n",
            "Epoch 29/50\n",
            "333/333 [==============================] - 1s 4ms/step - loss: 4.5650 - accuracy: 0.4451 - val_loss: 4.4044 - val_accuracy: 0.4179\n",
            "Epoch 30/50\n",
            "333/333 [==============================] - 1s 4ms/step - loss: 4.5400 - accuracy: 0.4472 - val_loss: 4.5080 - val_accuracy: 0.4136\n",
            "Epoch 31/50\n",
            "333/333 [==============================] - 1s 4ms/step - loss: 4.5455 - accuracy: 0.4448 - val_loss: 4.3458 - val_accuracy: 0.4125\n",
            "Epoch 32/50\n",
            "333/333 [==============================] - 1s 4ms/step - loss: 4.5227 - accuracy: 0.4484 - val_loss: 4.3456 - val_accuracy: 0.4124\n",
            "Epoch 33/50\n",
            "333/333 [==============================] - 1s 4ms/step - loss: 4.5101 - accuracy: 0.4503 - val_loss: 4.3806 - val_accuracy: 0.4169\n",
            "Epoch 34/50\n",
            "333/333 [==============================] - 1s 4ms/step - loss: 4.5177 - accuracy: 0.4464 - val_loss: 4.3719 - val_accuracy: 0.4125\n",
            "Epoch 35/50\n",
            "333/333 [==============================] - 1s 4ms/step - loss: 4.4932 - accuracy: 0.4505 - val_loss: 4.2974 - val_accuracy: 0.4268\n",
            "Epoch 36/50\n",
            "333/333 [==============================] - 1s 4ms/step - loss: 4.4858 - accuracy: 0.4501 - val_loss: 4.2960 - val_accuracy: 0.4172\n",
            "Epoch 37/50\n",
            "333/333 [==============================] - 1s 4ms/step - loss: 4.4992 - accuracy: 0.4482 - val_loss: 4.3208 - val_accuracy: 0.4225\n",
            "Epoch 38/50\n",
            "333/333 [==============================] - 1s 4ms/step - loss: 4.4662 - accuracy: 0.4520 - val_loss: 4.4122 - val_accuracy: 0.4179\n",
            "Epoch 39/50\n",
            "333/333 [==============================] - 1s 4ms/step - loss: 4.4744 - accuracy: 0.4507 - val_loss: 4.3103 - val_accuracy: 0.4228\n",
            "Epoch 40/50\n",
            "333/333 [==============================] - 1s 4ms/step - loss: 4.4571 - accuracy: 0.4537 - val_loss: 4.3685 - val_accuracy: 0.4205\n",
            "Epoch 41/50\n",
            "333/333 [==============================] - 1s 4ms/step - loss: 4.4482 - accuracy: 0.4532 - val_loss: 4.4054 - val_accuracy: 0.4213\n",
            "Epoch 42/50\n",
            "333/333 [==============================] - 1s 4ms/step - loss: 4.4556 - accuracy: 0.4540 - val_loss: 4.3047 - val_accuracy: 0.4239\n",
            "Epoch 43/50\n",
            "333/333 [==============================] - 1s 4ms/step - loss: 4.4503 - accuracy: 0.4553 - val_loss: 4.2845 - val_accuracy: 0.4187\n",
            "Epoch 44/50\n",
            "333/333 [==============================] - 1s 4ms/step - loss: 4.4270 - accuracy: 0.4534 - val_loss: 4.3012 - val_accuracy: 0.4241\n",
            "Epoch 45/50\n",
            "333/333 [==============================] - 1s 4ms/step - loss: 4.4146 - accuracy: 0.4568 - val_loss: 4.8031 - val_accuracy: 0.3840\n",
            "Epoch 46/50\n",
            "333/333 [==============================] - 1s 4ms/step - loss: 4.4428 - accuracy: 0.4528 - val_loss: 4.2986 - val_accuracy: 0.4229\n",
            "Epoch 47/50\n",
            "333/333 [==============================] - 1s 4ms/step - loss: 4.4231 - accuracy: 0.4561 - val_loss: 4.2787 - val_accuracy: 0.4245\n",
            "Epoch 48/50\n",
            "333/333 [==============================] - 1s 4ms/step - loss: 4.4019 - accuracy: 0.4595 - val_loss: 4.5673 - val_accuracy: 0.4111\n",
            "Epoch 49/50\n",
            "333/333 [==============================] - 1s 4ms/step - loss: 4.4073 - accuracy: 0.4568 - val_loss: 4.3450 - val_accuracy: 0.4176\n",
            "Epoch 50/50\n",
            "333/333 [==============================] - 1s 4ms/step - loss: 4.4083 - accuracy: 0.4585 - val_loss: 4.3030 - val_accuracy: 0.4176\n"
          ],
          "name": "stdout"
        },
        {
          "output_type": "execute_result",
          "data": {
            "text/plain": [
              "<tensorflow.python.keras.callbacks.History at 0x7fa9676e37b8>"
            ]
          },
          "metadata": {
            "tags": []
          },
          "execution_count": 47
        }
      ]
    },
    {
      "cell_type": "code",
      "metadata": {
        "id": "NWVLXFVrVDSD",
        "colab_type": "code",
        "colab": {
          "base_uri": "https://localhost:8080/",
          "height": 255
        },
        "outputId": "e097e1bf-a9ea-48df-e74f-4b5bfc828db0"
      },
      "source": [
        "AloneModel = Sequential() #a Must define the input shape in the first layer of the neural netAloneStudent = Sequential() #a Must define the input shape in the first layer of the neural network\n",
        "AloneModel.add(Flatten(input_shape=(32,32,3)))\n",
        "AloneModel.add(Dense(64, activation='relu'))\n",
        "AloneModel.add(Dense(10,activation=\"softmax\"))\n",
        "AloneModel.summary()"
      ],
      "execution_count": 14,
      "outputs": [
        {
          "output_type": "stream",
          "text": [
            "Model: \"sequential_2\"\n",
            "_________________________________________________________________\n",
            "Layer (type)                 Output Shape              Param #   \n",
            "=================================================================\n",
            "flatten_2 (Flatten)          (None, 3072)              0         \n",
            "_________________________________________________________________\n",
            "dense_4 (Dense)              (None, 64)                196672    \n",
            "_________________________________________________________________\n",
            "dense_5 (Dense)              (None, 10)                650       \n",
            "=================================================================\n",
            "Total params: 197,322\n",
            "Trainable params: 197,322\n",
            "Non-trainable params: 0\n",
            "_________________________________________________________________\n"
          ],
          "name": "stdout"
        }
      ]
    },
    {
      "cell_type": "code",
      "metadata": {
        "id": "WKoDavLPVGBF",
        "colab_type": "code",
        "colab": {
          "base_uri": "https://localhost:8080/",
          "height": 1000
        },
        "outputId": "fd481fae-b4f7-4b40-8b14-36ef75f890bc"
      },
      "source": [
        "AloneModel.compile(optimizer='adam',loss='sparse_categorical_crossentropy',metrics=['accuracy'])\n",
        "\n",
        "myCP = ModelCheckpoint(_best_only=True,filepath='alone.h5',monitor = 'val_acc')\n",
        "\n",
        "AloneModel.fit(x_train,y_train,epochs=50,validation_split=0.15,batch_size=128,callbacks=[myCP])"
      ],
      "execution_count": 48,
      "outputs": [
        {
          "output_type": "stream",
          "text": [
            "Epoch 1/50\n",
            "333/333 [==============================] - 1s 4ms/step - loss: 1.7027 - accuracy: 0.3871 - val_loss: 1.7655 - val_accuracy: 0.3665\n",
            "Epoch 2/50\n",
            "333/333 [==============================] - 1s 3ms/step - loss: 1.6996 - accuracy: 0.3895 - val_loss: 1.8274 - val_accuracy: 0.3407\n",
            "Epoch 3/50\n",
            "333/333 [==============================] - 1s 3ms/step - loss: 1.7059 - accuracy: 0.3870 - val_loss: 1.7718 - val_accuracy: 0.3671\n",
            "Epoch 4/50\n",
            "333/333 [==============================] - 1s 3ms/step - loss: 1.7011 - accuracy: 0.3903 - val_loss: 1.7686 - val_accuracy: 0.3663\n",
            "Epoch 5/50\n",
            "333/333 [==============================] - 1s 3ms/step - loss: 1.6995 - accuracy: 0.3891 - val_loss: 1.8169 - val_accuracy: 0.3517\n",
            "Epoch 6/50\n",
            "333/333 [==============================] - 1s 3ms/step - loss: 1.7005 - accuracy: 0.3884 - val_loss: 1.7845 - val_accuracy: 0.3608\n",
            "Epoch 7/50\n",
            "333/333 [==============================] - 1s 3ms/step - loss: 1.6987 - accuracy: 0.3909 - val_loss: 1.7838 - val_accuracy: 0.3591\n",
            "Epoch 8/50\n",
            "333/333 [==============================] - 1s 3ms/step - loss: 1.6973 - accuracy: 0.3904 - val_loss: 1.7913 - val_accuracy: 0.3540\n",
            "Epoch 9/50\n",
            "333/333 [==============================] - 1s 3ms/step - loss: 1.6997 - accuracy: 0.3884 - val_loss: 1.7983 - val_accuracy: 0.3600\n",
            "Epoch 10/50\n",
            "333/333 [==============================] - 1s 3ms/step - loss: 1.6953 - accuracy: 0.3908 - val_loss: 1.8618 - val_accuracy: 0.3340\n",
            "Epoch 11/50\n",
            "333/333 [==============================] - 1s 3ms/step - loss: 1.7070 - accuracy: 0.3877 - val_loss: 1.7589 - val_accuracy: 0.3739\n",
            "Epoch 12/50\n",
            "333/333 [==============================] - 1s 3ms/step - loss: 1.6952 - accuracy: 0.3884 - val_loss: 1.7762 - val_accuracy: 0.3596\n",
            "Epoch 13/50\n",
            "333/333 [==============================] - 1s 3ms/step - loss: 1.6983 - accuracy: 0.3906 - val_loss: 1.7597 - val_accuracy: 0.3735\n",
            "Epoch 14/50\n",
            "333/333 [==============================] - 1s 3ms/step - loss: 1.6914 - accuracy: 0.3909 - val_loss: 1.8027 - val_accuracy: 0.3568\n",
            "Epoch 15/50\n",
            "333/333 [==============================] - 1s 3ms/step - loss: 1.6957 - accuracy: 0.3910 - val_loss: 1.7812 - val_accuracy: 0.3637\n",
            "Epoch 16/50\n",
            "333/333 [==============================] - 1s 3ms/step - loss: 1.6951 - accuracy: 0.3916 - val_loss: 1.8185 - val_accuracy: 0.3459\n",
            "Epoch 17/50\n",
            "333/333 [==============================] - 1s 3ms/step - loss: 1.6954 - accuracy: 0.3908 - val_loss: 1.7642 - val_accuracy: 0.3713\n",
            "Epoch 18/50\n",
            "333/333 [==============================] - 1s 3ms/step - loss: 1.6900 - accuracy: 0.3922 - val_loss: 1.7996 - val_accuracy: 0.3556\n",
            "Epoch 19/50\n",
            "333/333 [==============================] - 1s 3ms/step - loss: 1.6924 - accuracy: 0.3923 - val_loss: 1.7575 - val_accuracy: 0.3741\n",
            "Epoch 20/50\n",
            "333/333 [==============================] - 1s 3ms/step - loss: 1.6935 - accuracy: 0.3916 - val_loss: 1.7958 - val_accuracy: 0.3609\n",
            "Epoch 21/50\n",
            "333/333 [==============================] - 1s 3ms/step - loss: 1.6884 - accuracy: 0.3927 - val_loss: 1.8245 - val_accuracy: 0.3476\n",
            "Epoch 22/50\n",
            "333/333 [==============================] - 1s 3ms/step - loss: 1.6952 - accuracy: 0.3904 - val_loss: 1.8223 - val_accuracy: 0.3601\n",
            "Epoch 23/50\n",
            "333/333 [==============================] - 1s 3ms/step - loss: 1.6921 - accuracy: 0.3927 - val_loss: 1.7705 - val_accuracy: 0.3719\n",
            "Epoch 24/50\n",
            "333/333 [==============================] - 1s 3ms/step - loss: 1.6871 - accuracy: 0.3955 - val_loss: 1.7619 - val_accuracy: 0.3717\n",
            "Epoch 25/50\n",
            "333/333 [==============================] - 1s 3ms/step - loss: 1.6895 - accuracy: 0.3911 - val_loss: 1.8815 - val_accuracy: 0.3292\n",
            "Epoch 26/50\n",
            "333/333 [==============================] - 1s 3ms/step - loss: 1.6890 - accuracy: 0.3938 - val_loss: 1.8270 - val_accuracy: 0.3425\n",
            "Epoch 27/50\n",
            "333/333 [==============================] - 1s 3ms/step - loss: 1.6916 - accuracy: 0.3937 - val_loss: 1.7718 - val_accuracy: 0.3724\n",
            "Epoch 28/50\n",
            "333/333 [==============================] - 1s 3ms/step - loss: 1.6913 - accuracy: 0.3920 - val_loss: 1.7788 - val_accuracy: 0.3588\n",
            "Epoch 29/50\n",
            "333/333 [==============================] - 1s 3ms/step - loss: 1.6894 - accuracy: 0.3936 - val_loss: 1.8025 - val_accuracy: 0.3661\n",
            "Epoch 30/50\n",
            "333/333 [==============================] - 1s 3ms/step - loss: 1.6886 - accuracy: 0.3937 - val_loss: 1.7849 - val_accuracy: 0.3679\n",
            "Epoch 31/50\n",
            "333/333 [==============================] - 1s 3ms/step - loss: 1.6869 - accuracy: 0.3946 - val_loss: 1.7660 - val_accuracy: 0.3707\n",
            "Epoch 32/50\n",
            "333/333 [==============================] - 1s 3ms/step - loss: 1.6861 - accuracy: 0.3945 - val_loss: 1.7904 - val_accuracy: 0.3588\n",
            "Epoch 33/50\n",
            "333/333 [==============================] - 1s 3ms/step - loss: 1.6922 - accuracy: 0.3926 - val_loss: 1.7556 - val_accuracy: 0.3735\n",
            "Epoch 34/50\n",
            "333/333 [==============================] - 1s 3ms/step - loss: 1.6844 - accuracy: 0.3953 - val_loss: 1.7626 - val_accuracy: 0.3699\n",
            "Epoch 35/50\n",
            "333/333 [==============================] - 1s 3ms/step - loss: 1.6859 - accuracy: 0.3956 - val_loss: 1.8002 - val_accuracy: 0.3533\n",
            "Epoch 36/50\n",
            "333/333 [==============================] - 1s 3ms/step - loss: 1.6865 - accuracy: 0.3944 - val_loss: 1.8287 - val_accuracy: 0.3619\n",
            "Epoch 37/50\n",
            "333/333 [==============================] - 1s 3ms/step - loss: 1.6883 - accuracy: 0.3940 - val_loss: 1.7648 - val_accuracy: 0.3739\n",
            "Epoch 38/50\n",
            "333/333 [==============================] - 1s 3ms/step - loss: 1.6857 - accuracy: 0.3930 - val_loss: 1.7659 - val_accuracy: 0.3677\n",
            "Epoch 39/50\n",
            "333/333 [==============================] - 1s 3ms/step - loss: 1.6834 - accuracy: 0.3969 - val_loss: 1.7759 - val_accuracy: 0.3689\n",
            "Epoch 40/50\n",
            "333/333 [==============================] - 1s 3ms/step - loss: 1.6824 - accuracy: 0.3939 - val_loss: 1.8224 - val_accuracy: 0.3489\n",
            "Epoch 41/50\n",
            "333/333 [==============================] - 1s 3ms/step - loss: 1.6904 - accuracy: 0.3932 - val_loss: 1.7993 - val_accuracy: 0.3528\n",
            "Epoch 42/50\n",
            "333/333 [==============================] - 1s 3ms/step - loss: 1.6865 - accuracy: 0.3946 - val_loss: 1.7760 - val_accuracy: 0.3649\n",
            "Epoch 43/50\n",
            "333/333 [==============================] - 1s 3ms/step - loss: 1.6824 - accuracy: 0.3972 - val_loss: 1.8360 - val_accuracy: 0.3447\n",
            "Epoch 44/50\n",
            "333/333 [==============================] - 1s 3ms/step - loss: 1.6847 - accuracy: 0.3945 - val_loss: 1.7937 - val_accuracy: 0.3541\n",
            "Epoch 45/50\n",
            "333/333 [==============================] - 1s 3ms/step - loss: 1.6816 - accuracy: 0.3966 - val_loss: 1.7982 - val_accuracy: 0.3629\n",
            "Epoch 46/50\n",
            "333/333 [==============================] - 1s 3ms/step - loss: 1.6837 - accuracy: 0.3944 - val_loss: 1.7805 - val_accuracy: 0.3691\n",
            "Epoch 47/50\n",
            "333/333 [==============================] - 1s 3ms/step - loss: 1.6839 - accuracy: 0.3967 - val_loss: 1.7738 - val_accuracy: 0.3711\n",
            "Epoch 48/50\n",
            "333/333 [==============================] - 1s 3ms/step - loss: 1.6804 - accuracy: 0.3973 - val_loss: 1.7659 - val_accuracy: 0.3715\n",
            "Epoch 49/50\n",
            "333/333 [==============================] - 1s 3ms/step - loss: 1.6789 - accuracy: 0.3988 - val_loss: 1.7677 - val_accuracy: 0.3707\n",
            "Epoch 50/50\n",
            "333/333 [==============================] - 1s 3ms/step - loss: 1.6810 - accuracy: 0.3966 - val_loss: 1.7854 - val_accuracy: 0.3623\n"
          ],
          "name": "stdout"
        },
        {
          "output_type": "execute_result",
          "data": {
            "text/plain": [
              "<tensorflow.python.keras.callbacks.History at 0x7fa9566dcb70>"
            ]
          },
          "metadata": {
            "tags": []
          },
          "execution_count": 48
        }
      ]
    },
    {
      "cell_type": "code",
      "metadata": {
        "id": "accBNlS3V02Y",
        "colab_type": "code",
        "colab": {
          "base_uri": "https://localhost:8080/",
          "height": 255
        },
        "outputId": "3a70a38f-c799-4cad-cc61-75d9d2fc157f"
      },
      "source": [
        "small_student = Sequential() #a Must define the input shape in the first layer of the neural network\n",
        "small_student.add(Flatten(input_shape=(32,32,3)))\n",
        "small_student.add(Dense(64, activation='relu',name=\"target_dense_layer\"))\n",
        "small_student.add(Dense(10))\n",
        "small_student.summary()\n"
      ],
      "execution_count": 49,
      "outputs": [
        {
          "output_type": "stream",
          "text": [
            "Model: \"sequential_15\"\n",
            "_________________________________________________________________\n",
            "Layer (type)                 Output Shape              Param #   \n",
            "=================================================================\n",
            "flatten_15 (Flatten)         (None, 3072)              0         \n",
            "_________________________________________________________________\n",
            "target_dense_layer (Dense)   (None, 64)                196672    \n",
            "_________________________________________________________________\n",
            "dense_25 (Dense)             (None, 10)                650       \n",
            "=================================================================\n",
            "Total params: 197,322\n",
            "Trainable params: 197,322\n",
            "Non-trainable params: 0\n",
            "_________________________________________________________________\n"
          ],
          "name": "stdout"
        }
      ]
    },
    {
      "cell_type": "code",
      "metadata": {
        "id": "a_7bST9dchgn",
        "colab_type": "code",
        "colab": {
          "base_uri": "https://localhost:8080/",
          "height": 561
        },
        "outputId": "e476dc31-afbc-40a7-d8a4-f19c5b893ffd"
      },
      "source": [
        "\n",
        "# the output of a Dense layer in the teacher targeted for Knowledge distillation\n",
        "\n",
        "intermediate_teacher_model = Model(Teacher.input, Teacher.get_layer(\"teacher_target_layer\").output)\n",
        "\n",
        "intermediate_teacher_model.summary()\n",
        "y_train_internal = intermediate_teacher_model.predict(x_train)\n",
        "y_test_internal = intermediate_teacher_model.predict(x_test)\n",
        "\n",
        "\n",
        "\n",
        "print(y_train_internal)\n",
        "#y_train_new_internal = to_categorical( y_train_internal, dtype='float32')\n",
        "#y_test_new_internal = to_categorical(  y_test_internal, dtype='float32')\n",
        "\n",
        "\n",
        "\n",
        "#y_train_new_internal_added = np.c_[to_categorical(y_train_new),y_train_internal]\n",
        "#y_test_new_internal_added = np.c_[to_categorical(y_test_new),y_test_internal]\n",
        "\n",
        "print(outer.shape)\n"
      ],
      "execution_count": 69,
      "outputs": [
        {
          "output_type": "stream",
          "text": [
            "Model: \"model_28\"\n",
            "_________________________________________________________________\n",
            "Layer (type)                 Output Shape              Param #   \n",
            "=================================================================\n",
            "conv2d_13_input (InputLayer) [(None, 32, 32, 3)]       0         \n",
            "_________________________________________________________________\n",
            "conv2d_13 (Conv2D)           (None, 32, 32, 32)        416       \n",
            "_________________________________________________________________\n",
            "max_pooling2d_13 (MaxPooling (None, 16, 16, 32)        0         \n",
            "_________________________________________________________________\n",
            "conv2d_14 (Conv2D)           (None, 16, 16, 64)        8256      \n",
            "_________________________________________________________________\n",
            "max_pooling2d_14 (MaxPooling (None, 8, 8, 64)          0         \n",
            "_________________________________________________________________\n",
            "flatten_16 (Flatten)         (None, 4096)              0         \n",
            "_________________________________________________________________\n",
            "dense_26 (Dense)             (None, 256)               1048832   \n",
            "_________________________________________________________________\n",
            "teacher_target_layer (Dense) (None, 64)                16448     \n",
            "=================================================================\n",
            "Total params: 1,073,952\n",
            "Trainable params: 1,073,952\n",
            "Non-trainable params: 0\n",
            "_________________________________________________________________\n",
            "[[0.20063648 0.14313924 0.         ... 0.03757033 0.06154902 0.        ]\n",
            " [0.25090918 0.16153812 0.         ... 0.08611771 0.         0.01505994]\n",
            " [0.10754485 0.13410914 0.         ... 0.06857631 0.         0.        ]\n",
            " ...\n",
            " [0.12062219 0.12591164 0.         ... 0.00852489 0.         0.        ]\n",
            " [0.22636816 0.22591901 0.         ... 0.07305892 0.         0.        ]\n",
            " [0.12430488 0.20285928 0.         ... 0.03146267 0.         0.        ]]\n",
            "(50000, 64, 1)\n"
          ],
          "name": "stdout"
        }
      ]
    },
    {
      "cell_type": "code",
      "metadata": {
        "id": "HeiEfCgGjgKV",
        "colab_type": "code",
        "colab": {}
      },
      "source": [
        "small_student_internal_sub_model =  Model(small_student.input, small_student.get_layer(\"target_dense_layer\").output)\n",
        "\n",
        "\n"
      ],
      "execution_count": 71,
      "outputs": []
    },
    {
      "cell_type": "code",
      "metadata": {
        "id": "qIEgQoTDZfxo",
        "colab_type": "code",
        "colab": {
          "base_uri": "https://localhost:8080/",
          "height": 460
        },
        "outputId": "d03728fc-749a-4589-8d2f-388d5beefb81"
      },
      "source": [
        "\n",
        "# Predict and convert to sparse categorical matrix\n",
        "\n",
        "#y_test_internal = Teacher_soften.predict(x_test).get_layer(name=\"teacher_target_layer\").output\n",
        "\n",
        "y_train_new = np.c_[to_categorical(y_train),y_train_internal]\n",
        "y_test_new = np.c_[to_categorical(y_test),y_train_internal]\n",
        "\n",
        "\n",
        "\n",
        "\n",
        "\n",
        "#KD Internal+regular loss function\n",
        "\n",
        "\n",
        "small_student_logits = small_student.layers[-1].output\n",
        "\n",
        "# Compute softmax\n",
        "probs = Activation(\"softmax\")(small_student_logits)\n",
        "\n",
        "# Compute softmax with softened logits\n",
        "logits_T = Lambda(lambda x:x/Temperature)(small_student_logits)\n",
        "probs_T = Activation(\"softmax\")(logits_T)\n",
        "\n",
        "CombinedLayers = concatenate([probs,probs_T])\n",
        "\n",
        "small_student_softmax = Model(small_student.input,CombinedLayers)\n",
        "\n",
        "\n",
        "def KD_complete_loss(y_true,y_pred,lambd=0.5,T=10.0):\n",
        "  y_true,y_true_KD = y_true[:,:NUM_CLASSES],y_true[:,NUM_CLASSES:]\n",
        "  y_pred,y_pred_KD = y_pred[:,:NUM_CLASSES],y_pred[:,NUM_CLASSES:]\n",
        "  # Classic cross-entropy (without temperature)\n",
        "  CE_loss = logloss(y_true,y_pred)\n",
        "  # KL-Divergence loss for softened output (with temperature)\n",
        "  KL_loss = T**2*KLD_Loss(y_true_KD,y_pred_KD)\n",
        "  +keras.backend.sqrt(keras.backend.sum(keras.backend.square(intermediate_teacher_model.output - small_student_internal_sub_model.output), axis=-1))\n",
        "\n",
        "  \n",
        "  return lambd*CE_loss + (1-lambd)*KL_loss\n",
        "\n",
        "def accuracy(y_true,y_pred):\n",
        "  return categorical_accuracy(y_true,y_pred)\n"
      ],
      "execution_count": 74,
      "outputs": [
        {
          "output_type": "error",
          "ename": "NotImplementedError",
          "evalue": "ignored",
          "traceback": [
            "\u001b[0;31m---------------------------------------------------------------------------\u001b[0m",
            "\u001b[0;31mAttributeError\u001b[0m                            Traceback (most recent call last)",
            "\u001b[0;32m/usr/local/lib/python3.6/dist-packages/numpy/core/fromnumeric.py\u001b[0m in \u001b[0;36mndim\u001b[0;34m(a)\u001b[0m\n\u001b[1;32m   3069\u001b[0m     \u001b[0;32mtry\u001b[0m\u001b[0;34m:\u001b[0m\u001b[0;34m\u001b[0m\u001b[0;34m\u001b[0m\u001b[0m\n\u001b[0;32m-> 3070\u001b[0;31m         \u001b[0;32mreturn\u001b[0m \u001b[0ma\u001b[0m\u001b[0;34m.\u001b[0m\u001b[0mndim\u001b[0m\u001b[0;34m\u001b[0m\u001b[0;34m\u001b[0m\u001b[0m\n\u001b[0m\u001b[1;32m   3071\u001b[0m     \u001b[0;32mexcept\u001b[0m \u001b[0mAttributeError\u001b[0m\u001b[0;34m:\u001b[0m\u001b[0;34m\u001b[0m\u001b[0;34m\u001b[0m\u001b[0m\n",
            "\u001b[0;31mAttributeError\u001b[0m: 'Tensor' object has no attribute 'ndim'",
            "\nDuring handling of the above exception, another exception occurred:\n",
            "\u001b[0;31mNotImplementedError\u001b[0m                       Traceback (most recent call last)",
            "\u001b[0;32m<ipython-input-74-f85312c4c4c8>\u001b[0m in \u001b[0;36m<module>\u001b[0;34m()\u001b[0m\n\u001b[1;32m      4\u001b[0m \u001b[0;31m#y_test_internal = Teacher_soften.predict(x_test).get_layer(name=\"teacher_target_layer\").output\u001b[0m\u001b[0;34m\u001b[0m\u001b[0;34m\u001b[0m\u001b[0;34m\u001b[0m\u001b[0m\n\u001b[1;32m      5\u001b[0m \u001b[0;34m\u001b[0m\u001b[0m\n\u001b[0;32m----> 6\u001b[0;31m \u001b[0my_train_new\u001b[0m \u001b[0;34m=\u001b[0m \u001b[0mnp\u001b[0m\u001b[0;34m.\u001b[0m\u001b[0mc_\u001b[0m\u001b[0;34m[\u001b[0m\u001b[0mto_categorical\u001b[0m\u001b[0;34m(\u001b[0m\u001b[0my_train\u001b[0m\u001b[0;34m)\u001b[0m\u001b[0;34m,\u001b[0m\u001b[0my_train_internal\u001b[0m\u001b[0;34m]\u001b[0m\u001b[0;34m\u001b[0m\u001b[0;34m\u001b[0m\u001b[0m\n\u001b[0m\u001b[1;32m      7\u001b[0m \u001b[0my_test_new\u001b[0m \u001b[0;34m=\u001b[0m \u001b[0mnp\u001b[0m\u001b[0;34m.\u001b[0m\u001b[0mc_\u001b[0m\u001b[0;34m[\u001b[0m\u001b[0mto_categorical\u001b[0m\u001b[0;34m(\u001b[0m\u001b[0my_test\u001b[0m\u001b[0;34m)\u001b[0m\u001b[0;34m,\u001b[0m\u001b[0my_train_internal\u001b[0m\u001b[0;34m]\u001b[0m\u001b[0;34m\u001b[0m\u001b[0;34m\u001b[0m\u001b[0m\n\u001b[1;32m      8\u001b[0m \u001b[0;34m\u001b[0m\u001b[0m\n",
            "\u001b[0;32m/usr/local/lib/python3.6/dist-packages/numpy/lib/index_tricks.py\u001b[0m in \u001b[0;36m__getitem__\u001b[0;34m(self, key)\u001b[0m\n\u001b[1;32m    384\u001b[0m                 \u001b[0mscalartypes\u001b[0m\u001b[0;34m.\u001b[0m\u001b[0mappend\u001b[0m\u001b[0;34m(\u001b[0m\u001b[0mnewobj\u001b[0m\u001b[0;34m.\u001b[0m\u001b[0mdtype\u001b[0m\u001b[0;34m)\u001b[0m\u001b[0;34m\u001b[0m\u001b[0;34m\u001b[0m\u001b[0m\n\u001b[1;32m    385\u001b[0m             \u001b[0;32melse\u001b[0m\u001b[0;34m:\u001b[0m\u001b[0;34m\u001b[0m\u001b[0;34m\u001b[0m\u001b[0m\n\u001b[0;32m--> 386\u001b[0;31m                 \u001b[0mitem_ndim\u001b[0m \u001b[0;34m=\u001b[0m \u001b[0mndim\u001b[0m\u001b[0;34m(\u001b[0m\u001b[0mitem\u001b[0m\u001b[0;34m)\u001b[0m\u001b[0;34m\u001b[0m\u001b[0;34m\u001b[0m\u001b[0m\n\u001b[0m\u001b[1;32m    387\u001b[0m                 \u001b[0mnewobj\u001b[0m \u001b[0;34m=\u001b[0m \u001b[0marray\u001b[0m\u001b[0;34m(\u001b[0m\u001b[0mitem\u001b[0m\u001b[0;34m,\u001b[0m \u001b[0mcopy\u001b[0m\u001b[0;34m=\u001b[0m\u001b[0;32mFalse\u001b[0m\u001b[0;34m,\u001b[0m \u001b[0msubok\u001b[0m\u001b[0;34m=\u001b[0m\u001b[0;32mTrue\u001b[0m\u001b[0;34m,\u001b[0m \u001b[0mndmin\u001b[0m\u001b[0;34m=\u001b[0m\u001b[0mndmin\u001b[0m\u001b[0;34m)\u001b[0m\u001b[0;34m\u001b[0m\u001b[0;34m\u001b[0m\u001b[0m\n\u001b[1;32m    388\u001b[0m                 \u001b[0;32mif\u001b[0m \u001b[0mtrans1d\u001b[0m \u001b[0;34m!=\u001b[0m \u001b[0;34m-\u001b[0m\u001b[0;36m1\u001b[0m \u001b[0;32mand\u001b[0m \u001b[0mitem_ndim\u001b[0m \u001b[0;34m<\u001b[0m \u001b[0mndmin\u001b[0m\u001b[0;34m:\u001b[0m\u001b[0;34m\u001b[0m\u001b[0;34m\u001b[0m\u001b[0m\n",
            "\u001b[0;32m<__array_function__ internals>\u001b[0m in \u001b[0;36mndim\u001b[0;34m(*args, **kwargs)\u001b[0m\n",
            "\u001b[0;32m/usr/local/lib/python3.6/dist-packages/numpy/core/fromnumeric.py\u001b[0m in \u001b[0;36mndim\u001b[0;34m(a)\u001b[0m\n\u001b[1;32m   3070\u001b[0m         \u001b[0;32mreturn\u001b[0m \u001b[0ma\u001b[0m\u001b[0;34m.\u001b[0m\u001b[0mndim\u001b[0m\u001b[0;34m\u001b[0m\u001b[0;34m\u001b[0m\u001b[0m\n\u001b[1;32m   3071\u001b[0m     \u001b[0;32mexcept\u001b[0m \u001b[0mAttributeError\u001b[0m\u001b[0;34m:\u001b[0m\u001b[0;34m\u001b[0m\u001b[0;34m\u001b[0m\u001b[0m\n\u001b[0;32m-> 3072\u001b[0;31m         \u001b[0;32mreturn\u001b[0m \u001b[0masarray\u001b[0m\u001b[0;34m(\u001b[0m\u001b[0ma\u001b[0m\u001b[0;34m)\u001b[0m\u001b[0;34m.\u001b[0m\u001b[0mndim\u001b[0m\u001b[0;34m\u001b[0m\u001b[0;34m\u001b[0m\u001b[0m\n\u001b[0m\u001b[1;32m   3073\u001b[0m \u001b[0;34m\u001b[0m\u001b[0m\n\u001b[1;32m   3074\u001b[0m \u001b[0;34m\u001b[0m\u001b[0m\n",
            "\u001b[0;32m/usr/local/lib/python3.6/dist-packages/numpy/core/_asarray.py\u001b[0m in \u001b[0;36masarray\u001b[0;34m(a, dtype, order)\u001b[0m\n\u001b[1;32m     83\u001b[0m \u001b[0;34m\u001b[0m\u001b[0m\n\u001b[1;32m     84\u001b[0m     \"\"\"\n\u001b[0;32m---> 85\u001b[0;31m     \u001b[0;32mreturn\u001b[0m \u001b[0marray\u001b[0m\u001b[0;34m(\u001b[0m\u001b[0ma\u001b[0m\u001b[0;34m,\u001b[0m \u001b[0mdtype\u001b[0m\u001b[0;34m,\u001b[0m \u001b[0mcopy\u001b[0m\u001b[0;34m=\u001b[0m\u001b[0;32mFalse\u001b[0m\u001b[0;34m,\u001b[0m \u001b[0morder\u001b[0m\u001b[0;34m=\u001b[0m\u001b[0morder\u001b[0m\u001b[0;34m)\u001b[0m\u001b[0;34m\u001b[0m\u001b[0;34m\u001b[0m\u001b[0m\n\u001b[0m\u001b[1;32m     86\u001b[0m \u001b[0;34m\u001b[0m\u001b[0m\n\u001b[1;32m     87\u001b[0m \u001b[0;34m\u001b[0m\u001b[0m\n",
            "\u001b[0;32m/usr/local/lib/python3.6/dist-packages/tensorflow/python/framework/ops.py\u001b[0m in \u001b[0;36m__array__\u001b[0;34m(self)\u001b[0m\n\u001b[1;32m    747\u001b[0m   \u001b[0;32mdef\u001b[0m \u001b[0m__array__\u001b[0m\u001b[0;34m(\u001b[0m\u001b[0mself\u001b[0m\u001b[0;34m)\u001b[0m\u001b[0;34m:\u001b[0m\u001b[0;34m\u001b[0m\u001b[0;34m\u001b[0m\u001b[0m\n\u001b[1;32m    748\u001b[0m     raise NotImplementedError(\"Cannot convert a symbolic Tensor ({}) to a numpy\"\n\u001b[0;32m--> 749\u001b[0;31m                               \" array.\".format(self.name))\n\u001b[0m\u001b[1;32m    750\u001b[0m \u001b[0;34m\u001b[0m\u001b[0m\n\u001b[1;32m    751\u001b[0m   \u001b[0;32mdef\u001b[0m \u001b[0m__len__\u001b[0m\u001b[0;34m(\u001b[0m\u001b[0mself\u001b[0m\u001b[0;34m)\u001b[0m\u001b[0;34m:\u001b[0m\u001b[0;34m\u001b[0m\u001b[0;34m\u001b[0m\u001b[0m\n",
            "\u001b[0;31mNotImplementedError\u001b[0m: Cannot convert a symbolic Tensor (teacher_target_layer/Identity:0) to a numpy array."
          ]
        }
      ]
    },
    {
      "cell_type": "code",
      "metadata": {
        "id": "Xib8UmHmXPjV",
        "colab_type": "code",
        "colab": {
          "base_uri": "https://localhost:8080/",
          "height": 1000
        },
        "outputId": "31eaafd7-ab71-4f49-97ec-bad0dedd5afc"
      },
      "source": [
        "#Standalone regular training\n",
        "\n",
        "small_student.compile(optimizer='adam',loss='sparse_categorical_crossentropy',metrics=['accuracy'])\n",
        "\n",
        "myCP = ModelCheckpoint(_best_only=True,filepath='small_student.h5',monitor = 'val_acc')\n",
        "\n",
        "small_student.fit(x_train,y_train,epochs=20,validation_split=0.15,batch_size=128,callbacks=[myCP])\n"
      ],
      "execution_count": 30,
      "outputs": [
        {
          "output_type": "stream",
          "text": [
            "Epoch 1/20\n",
            "333/333 [==============================] - 4s 12ms/step - loss: 2.5782 - accuracy: 0.0992 - val_loss: 2.3026 - val_accuracy: 0.1015\n",
            "Epoch 2/20\n",
            "333/333 [==============================] - 4s 12ms/step - loss: 2.3224 - accuracy: 0.1001 - val_loss: 2.3026 - val_accuracy: 0.1015\n",
            "Epoch 3/20\n",
            "333/333 [==============================] - 4s 12ms/step - loss: 2.3243 - accuracy: 0.1013 - val_loss: 2.3026 - val_accuracy: 0.0953\n",
            "Epoch 4/20\n",
            "333/333 [==============================] - 4s 12ms/step - loss: 2.3072 - accuracy: 0.0999 - val_loss: 2.3026 - val_accuracy: 0.0953\n",
            "Epoch 5/20\n",
            "333/333 [==============================] - 4s 12ms/step - loss: 2.3208 - accuracy: 0.1035 - val_loss: 2.3026 - val_accuracy: 0.1015\n",
            "Epoch 6/20\n",
            "333/333 [==============================] - 4s 12ms/step - loss: 2.3369 - accuracy: 0.0995 - val_loss: 2.3026 - val_accuracy: 0.1015\n",
            "Epoch 7/20\n",
            "333/333 [==============================] - 4s 12ms/step - loss: 2.3114 - accuracy: 0.0995 - val_loss: 2.3026 - val_accuracy: 0.1015\n",
            "Epoch 8/20\n",
            "333/333 [==============================] - 4s 12ms/step - loss: 2.3150 - accuracy: 0.0985 - val_loss: 2.3026 - val_accuracy: 0.1015\n",
            "Epoch 9/20\n",
            "333/333 [==============================] - 4s 12ms/step - loss: 2.3068 - accuracy: 0.1005 - val_loss: 2.3026 - val_accuracy: 0.1015\n",
            "Epoch 10/20\n",
            "333/333 [==============================] - 4s 12ms/step - loss: 2.3058 - accuracy: 0.1007 - val_loss: 2.3026 - val_accuracy: 0.1015\n",
            "Epoch 11/20\n",
            "333/333 [==============================] - 4s 12ms/step - loss: 2.3150 - accuracy: 0.1009 - val_loss: 2.3026 - val_accuracy: 0.1015\n",
            "Epoch 12/20\n",
            "333/333 [==============================] - 4s 12ms/step - loss: 2.3121 - accuracy: 0.0997 - val_loss: 2.3026 - val_accuracy: 0.1015\n",
            "Epoch 13/20\n",
            "333/333 [==============================] - 4s 12ms/step - loss: 2.3063 - accuracy: 0.0992 - val_loss: 2.3026 - val_accuracy: 0.1015\n",
            "Epoch 14/20\n",
            "333/333 [==============================] - 4s 12ms/step - loss: 2.3069 - accuracy: 0.0996 - val_loss: 2.3026 - val_accuracy: 0.1015\n",
            "Epoch 15/20\n",
            "333/333 [==============================] - 4s 12ms/step - loss: 2.3071 - accuracy: 0.1009 - val_loss: 2.3026 - val_accuracy: 0.1015\n",
            "Epoch 16/20\n",
            "333/333 [==============================] - 4s 12ms/step - loss: 2.3163 - accuracy: 0.1019 - val_loss: 2.3026 - val_accuracy: 0.1015\n",
            "Epoch 17/20\n",
            "333/333 [==============================] - 4s 12ms/step - loss: 2.5871 - accuracy: 0.0996 - val_loss: 2.3026 - val_accuracy: 0.1015\n",
            "Epoch 18/20\n",
            "333/333 [==============================] - 4s 12ms/step - loss: 3.1435 - accuracy: 0.1012 - val_loss: 3.7832 - val_accuracy: 0.1015\n",
            "Epoch 19/20\n",
            "333/333 [==============================] - 4s 12ms/step - loss: 10.0281 - accuracy: 0.1018 - val_loss: 14.4934 - val_accuracy: 0.1008\n",
            "Epoch 20/20\n",
            "197/333 [================>.............] - ETA: 1s - loss: 13.1665 - accuracy: 0.1015"
          ],
          "name": "stdout"
        },
        {
          "output_type": "error",
          "ename": "KeyboardInterrupt",
          "evalue": "ignored",
          "traceback": [
            "\u001b[0;31m---------------------------------------------------------------------------\u001b[0m",
            "\u001b[0;31mKeyboardInterrupt\u001b[0m                         Traceback (most recent call last)",
            "\u001b[0;32m<ipython-input-30-23a86469b1bc>\u001b[0m in \u001b[0;36m<module>\u001b[0;34m()\u001b[0m\n\u001b[1;32m      5\u001b[0m \u001b[0mmyCP\u001b[0m \u001b[0;34m=\u001b[0m \u001b[0mModelCheckpoint\u001b[0m\u001b[0;34m(\u001b[0m\u001b[0m_best_only\u001b[0m\u001b[0;34m=\u001b[0m\u001b[0;32mTrue\u001b[0m\u001b[0;34m,\u001b[0m\u001b[0mfilepath\u001b[0m\u001b[0;34m=\u001b[0m\u001b[0;34m'small_student.h5'\u001b[0m\u001b[0;34m,\u001b[0m\u001b[0mmonitor\u001b[0m \u001b[0;34m=\u001b[0m \u001b[0;34m'val_acc'\u001b[0m\u001b[0;34m)\u001b[0m\u001b[0;34m\u001b[0m\u001b[0;34m\u001b[0m\u001b[0m\n\u001b[1;32m      6\u001b[0m \u001b[0;34m\u001b[0m\u001b[0m\n\u001b[0;32m----> 7\u001b[0;31m \u001b[0msmall_student\u001b[0m\u001b[0;34m.\u001b[0m\u001b[0mfit\u001b[0m\u001b[0;34m(\u001b[0m\u001b[0mx_train\u001b[0m\u001b[0;34m,\u001b[0m\u001b[0my_train\u001b[0m\u001b[0;34m,\u001b[0m\u001b[0mepochs\u001b[0m\u001b[0;34m=\u001b[0m\u001b[0;36m20\u001b[0m\u001b[0;34m,\u001b[0m\u001b[0mvalidation_split\u001b[0m\u001b[0;34m=\u001b[0m\u001b[0;36m0.15\u001b[0m\u001b[0;34m,\u001b[0m\u001b[0mbatch_size\u001b[0m\u001b[0;34m=\u001b[0m\u001b[0;36m128\u001b[0m\u001b[0;34m,\u001b[0m\u001b[0mcallbacks\u001b[0m\u001b[0;34m=\u001b[0m\u001b[0;34m[\u001b[0m\u001b[0mmyCP\u001b[0m\u001b[0;34m]\u001b[0m\u001b[0;34m)\u001b[0m\u001b[0;34m\u001b[0m\u001b[0;34m\u001b[0m\u001b[0m\n\u001b[0m",
            "\u001b[0;32m/usr/local/lib/python3.6/dist-packages/tensorflow/python/keras/engine/training.py\u001b[0m in \u001b[0;36m_method_wrapper\u001b[0;34m(self, *args, **kwargs)\u001b[0m\n\u001b[1;32m     64\u001b[0m   \u001b[0;32mdef\u001b[0m \u001b[0m_method_wrapper\u001b[0m\u001b[0;34m(\u001b[0m\u001b[0mself\u001b[0m\u001b[0;34m,\u001b[0m \u001b[0;34m*\u001b[0m\u001b[0margs\u001b[0m\u001b[0;34m,\u001b[0m \u001b[0;34m**\u001b[0m\u001b[0mkwargs\u001b[0m\u001b[0;34m)\u001b[0m\u001b[0;34m:\u001b[0m\u001b[0;34m\u001b[0m\u001b[0;34m\u001b[0m\u001b[0m\n\u001b[1;32m     65\u001b[0m     \u001b[0;32mif\u001b[0m \u001b[0;32mnot\u001b[0m \u001b[0mself\u001b[0m\u001b[0;34m.\u001b[0m\u001b[0m_in_multi_worker_mode\u001b[0m\u001b[0;34m(\u001b[0m\u001b[0;34m)\u001b[0m\u001b[0;34m:\u001b[0m  \u001b[0;31m# pylint: disable=protected-access\u001b[0m\u001b[0;34m\u001b[0m\u001b[0;34m\u001b[0m\u001b[0m\n\u001b[0;32m---> 66\u001b[0;31m       \u001b[0;32mreturn\u001b[0m \u001b[0mmethod\u001b[0m\u001b[0;34m(\u001b[0m\u001b[0mself\u001b[0m\u001b[0;34m,\u001b[0m \u001b[0;34m*\u001b[0m\u001b[0margs\u001b[0m\u001b[0;34m,\u001b[0m \u001b[0;34m**\u001b[0m\u001b[0mkwargs\u001b[0m\u001b[0;34m)\u001b[0m\u001b[0;34m\u001b[0m\u001b[0;34m\u001b[0m\u001b[0m\n\u001b[0m\u001b[1;32m     67\u001b[0m \u001b[0;34m\u001b[0m\u001b[0m\n\u001b[1;32m     68\u001b[0m     \u001b[0;31m# Running inside `run_distribute_coordinator` already.\u001b[0m\u001b[0;34m\u001b[0m\u001b[0;34m\u001b[0m\u001b[0;34m\u001b[0m\u001b[0m\n",
            "\u001b[0;32m/usr/local/lib/python3.6/dist-packages/tensorflow/python/keras/engine/training.py\u001b[0m in \u001b[0;36mfit\u001b[0;34m(self, x, y, batch_size, epochs, verbose, callbacks, validation_split, validation_data, shuffle, class_weight, sample_weight, initial_epoch, steps_per_epoch, validation_steps, validation_batch_size, validation_freq, max_queue_size, workers, use_multiprocessing)\u001b[0m\n\u001b[1;32m    846\u001b[0m                 batch_size=batch_size):\n\u001b[1;32m    847\u001b[0m               \u001b[0mcallbacks\u001b[0m\u001b[0;34m.\u001b[0m\u001b[0mon_train_batch_begin\u001b[0m\u001b[0;34m(\u001b[0m\u001b[0mstep\u001b[0m\u001b[0;34m)\u001b[0m\u001b[0;34m\u001b[0m\u001b[0;34m\u001b[0m\u001b[0m\n\u001b[0;32m--> 848\u001b[0;31m               \u001b[0mtmp_logs\u001b[0m \u001b[0;34m=\u001b[0m \u001b[0mtrain_function\u001b[0m\u001b[0;34m(\u001b[0m\u001b[0miterator\u001b[0m\u001b[0;34m)\u001b[0m\u001b[0;34m\u001b[0m\u001b[0;34m\u001b[0m\u001b[0m\n\u001b[0m\u001b[1;32m    849\u001b[0m               \u001b[0;31m# Catch OutOfRangeError for Datasets of unknown size.\u001b[0m\u001b[0;34m\u001b[0m\u001b[0;34m\u001b[0m\u001b[0;34m\u001b[0m\u001b[0m\n\u001b[1;32m    850\u001b[0m               \u001b[0;31m# This blocks until the batch has finished executing.\u001b[0m\u001b[0;34m\u001b[0m\u001b[0;34m\u001b[0m\u001b[0;34m\u001b[0m\u001b[0m\n",
            "\u001b[0;32m/usr/local/lib/python3.6/dist-packages/tensorflow/python/eager/def_function.py\u001b[0m in \u001b[0;36m__call__\u001b[0;34m(self, *args, **kwds)\u001b[0m\n\u001b[1;32m    578\u001b[0m         \u001b[0mxla_context\u001b[0m\u001b[0;34m.\u001b[0m\u001b[0mExit\u001b[0m\u001b[0;34m(\u001b[0m\u001b[0;34m)\u001b[0m\u001b[0;34m\u001b[0m\u001b[0;34m\u001b[0m\u001b[0m\n\u001b[1;32m    579\u001b[0m     \u001b[0;32melse\u001b[0m\u001b[0;34m:\u001b[0m\u001b[0;34m\u001b[0m\u001b[0;34m\u001b[0m\u001b[0m\n\u001b[0;32m--> 580\u001b[0;31m       \u001b[0mresult\u001b[0m \u001b[0;34m=\u001b[0m \u001b[0mself\u001b[0m\u001b[0;34m.\u001b[0m\u001b[0m_call\u001b[0m\u001b[0;34m(\u001b[0m\u001b[0;34m*\u001b[0m\u001b[0margs\u001b[0m\u001b[0;34m,\u001b[0m \u001b[0;34m**\u001b[0m\u001b[0mkwds\u001b[0m\u001b[0;34m)\u001b[0m\u001b[0;34m\u001b[0m\u001b[0;34m\u001b[0m\u001b[0m\n\u001b[0m\u001b[1;32m    581\u001b[0m \u001b[0;34m\u001b[0m\u001b[0m\n\u001b[1;32m    582\u001b[0m     \u001b[0;32mif\u001b[0m \u001b[0mtracing_count\u001b[0m \u001b[0;34m==\u001b[0m \u001b[0mself\u001b[0m\u001b[0;34m.\u001b[0m\u001b[0m_get_tracing_count\u001b[0m\u001b[0;34m(\u001b[0m\u001b[0;34m)\u001b[0m\u001b[0;34m:\u001b[0m\u001b[0;34m\u001b[0m\u001b[0;34m\u001b[0m\u001b[0m\n",
            "\u001b[0;32m/usr/local/lib/python3.6/dist-packages/tensorflow/python/eager/def_function.py\u001b[0m in \u001b[0;36m_call\u001b[0;34m(self, *args, **kwds)\u001b[0m\n\u001b[1;32m    609\u001b[0m       \u001b[0;31m# In this case we have created variables on the first call, so we run the\u001b[0m\u001b[0;34m\u001b[0m\u001b[0;34m\u001b[0m\u001b[0;34m\u001b[0m\u001b[0m\n\u001b[1;32m    610\u001b[0m       \u001b[0;31m# defunned version which is guaranteed to never create variables.\u001b[0m\u001b[0;34m\u001b[0m\u001b[0;34m\u001b[0m\u001b[0;34m\u001b[0m\u001b[0m\n\u001b[0;32m--> 611\u001b[0;31m       \u001b[0;32mreturn\u001b[0m \u001b[0mself\u001b[0m\u001b[0;34m.\u001b[0m\u001b[0m_stateless_fn\u001b[0m\u001b[0;34m(\u001b[0m\u001b[0;34m*\u001b[0m\u001b[0margs\u001b[0m\u001b[0;34m,\u001b[0m \u001b[0;34m**\u001b[0m\u001b[0mkwds\u001b[0m\u001b[0;34m)\u001b[0m  \u001b[0;31m# pylint: disable=not-callable\u001b[0m\u001b[0;34m\u001b[0m\u001b[0;34m\u001b[0m\u001b[0m\n\u001b[0m\u001b[1;32m    612\u001b[0m     \u001b[0;32melif\u001b[0m \u001b[0mself\u001b[0m\u001b[0;34m.\u001b[0m\u001b[0m_stateful_fn\u001b[0m \u001b[0;32mis\u001b[0m \u001b[0;32mnot\u001b[0m \u001b[0;32mNone\u001b[0m\u001b[0;34m:\u001b[0m\u001b[0;34m\u001b[0m\u001b[0;34m\u001b[0m\u001b[0m\n\u001b[1;32m    613\u001b[0m       \u001b[0;31m# Release the lock early so that multiple threads can perform the call\u001b[0m\u001b[0;34m\u001b[0m\u001b[0;34m\u001b[0m\u001b[0;34m\u001b[0m\u001b[0m\n",
            "\u001b[0;32m/usr/local/lib/python3.6/dist-packages/tensorflow/python/eager/function.py\u001b[0m in \u001b[0;36m__call__\u001b[0;34m(self, *args, **kwargs)\u001b[0m\n\u001b[1;32m   2418\u001b[0m     \u001b[0;32mwith\u001b[0m \u001b[0mself\u001b[0m\u001b[0;34m.\u001b[0m\u001b[0m_lock\u001b[0m\u001b[0;34m:\u001b[0m\u001b[0;34m\u001b[0m\u001b[0;34m\u001b[0m\u001b[0m\n\u001b[1;32m   2419\u001b[0m       \u001b[0mgraph_function\u001b[0m\u001b[0;34m,\u001b[0m \u001b[0margs\u001b[0m\u001b[0;34m,\u001b[0m \u001b[0mkwargs\u001b[0m \u001b[0;34m=\u001b[0m \u001b[0mself\u001b[0m\u001b[0;34m.\u001b[0m\u001b[0m_maybe_define_function\u001b[0m\u001b[0;34m(\u001b[0m\u001b[0margs\u001b[0m\u001b[0;34m,\u001b[0m \u001b[0mkwargs\u001b[0m\u001b[0;34m)\u001b[0m\u001b[0;34m\u001b[0m\u001b[0;34m\u001b[0m\u001b[0m\n\u001b[0;32m-> 2420\u001b[0;31m     \u001b[0;32mreturn\u001b[0m \u001b[0mgraph_function\u001b[0m\u001b[0;34m.\u001b[0m\u001b[0m_filtered_call\u001b[0m\u001b[0;34m(\u001b[0m\u001b[0margs\u001b[0m\u001b[0;34m,\u001b[0m \u001b[0mkwargs\u001b[0m\u001b[0;34m)\u001b[0m  \u001b[0;31m# pylint: disable=protected-access\u001b[0m\u001b[0;34m\u001b[0m\u001b[0;34m\u001b[0m\u001b[0m\n\u001b[0m\u001b[1;32m   2421\u001b[0m \u001b[0;34m\u001b[0m\u001b[0m\n\u001b[1;32m   2422\u001b[0m   \u001b[0;34m@\u001b[0m\u001b[0mproperty\u001b[0m\u001b[0;34m\u001b[0m\u001b[0;34m\u001b[0m\u001b[0m\n",
            "\u001b[0;32m/usr/local/lib/python3.6/dist-packages/tensorflow/python/eager/function.py\u001b[0m in \u001b[0;36m_filtered_call\u001b[0;34m(self, args, kwargs)\u001b[0m\n\u001b[1;32m   1663\u001b[0m          if isinstance(t, (ops.Tensor,\n\u001b[1;32m   1664\u001b[0m                            resource_variable_ops.BaseResourceVariable))),\n\u001b[0;32m-> 1665\u001b[0;31m         self.captured_inputs)\n\u001b[0m\u001b[1;32m   1666\u001b[0m \u001b[0;34m\u001b[0m\u001b[0m\n\u001b[1;32m   1667\u001b[0m   \u001b[0;32mdef\u001b[0m \u001b[0m_call_flat\u001b[0m\u001b[0;34m(\u001b[0m\u001b[0mself\u001b[0m\u001b[0;34m,\u001b[0m \u001b[0margs\u001b[0m\u001b[0;34m,\u001b[0m \u001b[0mcaptured_inputs\u001b[0m\u001b[0;34m,\u001b[0m \u001b[0mcancellation_manager\u001b[0m\u001b[0;34m=\u001b[0m\u001b[0;32mNone\u001b[0m\u001b[0;34m)\u001b[0m\u001b[0;34m:\u001b[0m\u001b[0;34m\u001b[0m\u001b[0;34m\u001b[0m\u001b[0m\n",
            "\u001b[0;32m/usr/local/lib/python3.6/dist-packages/tensorflow/python/eager/function.py\u001b[0m in \u001b[0;36m_call_flat\u001b[0;34m(self, args, captured_inputs, cancellation_manager)\u001b[0m\n\u001b[1;32m   1744\u001b[0m       \u001b[0;31m# No tape is watching; skip to running the function.\u001b[0m\u001b[0;34m\u001b[0m\u001b[0;34m\u001b[0m\u001b[0;34m\u001b[0m\u001b[0m\n\u001b[1;32m   1745\u001b[0m       return self._build_call_outputs(self._inference_function.call(\n\u001b[0;32m-> 1746\u001b[0;31m           ctx, args, cancellation_manager=cancellation_manager))\n\u001b[0m\u001b[1;32m   1747\u001b[0m     forward_backward = self._select_forward_and_backward_functions(\n\u001b[1;32m   1748\u001b[0m         \u001b[0margs\u001b[0m\u001b[0;34m,\u001b[0m\u001b[0;34m\u001b[0m\u001b[0;34m\u001b[0m\u001b[0m\n",
            "\u001b[0;32m/usr/local/lib/python3.6/dist-packages/tensorflow/python/eager/function.py\u001b[0m in \u001b[0;36mcall\u001b[0;34m(self, ctx, args, cancellation_manager)\u001b[0m\n\u001b[1;32m    596\u001b[0m               \u001b[0minputs\u001b[0m\u001b[0;34m=\u001b[0m\u001b[0margs\u001b[0m\u001b[0;34m,\u001b[0m\u001b[0;34m\u001b[0m\u001b[0;34m\u001b[0m\u001b[0m\n\u001b[1;32m    597\u001b[0m               \u001b[0mattrs\u001b[0m\u001b[0;34m=\u001b[0m\u001b[0mattrs\u001b[0m\u001b[0;34m,\u001b[0m\u001b[0;34m\u001b[0m\u001b[0;34m\u001b[0m\u001b[0m\n\u001b[0;32m--> 598\u001b[0;31m               ctx=ctx)\n\u001b[0m\u001b[1;32m    599\u001b[0m         \u001b[0;32melse\u001b[0m\u001b[0;34m:\u001b[0m\u001b[0;34m\u001b[0m\u001b[0;34m\u001b[0m\u001b[0m\n\u001b[1;32m    600\u001b[0m           outputs = execute.execute_with_cancellation(\n",
            "\u001b[0;32m/usr/local/lib/python3.6/dist-packages/tensorflow/python/eager/execute.py\u001b[0m in \u001b[0;36mquick_execute\u001b[0;34m(op_name, num_outputs, inputs, attrs, ctx, name)\u001b[0m\n\u001b[1;32m     58\u001b[0m     \u001b[0mctx\u001b[0m\u001b[0;34m.\u001b[0m\u001b[0mensure_initialized\u001b[0m\u001b[0;34m(\u001b[0m\u001b[0;34m)\u001b[0m\u001b[0;34m\u001b[0m\u001b[0;34m\u001b[0m\u001b[0m\n\u001b[1;32m     59\u001b[0m     tensors = pywrap_tfe.TFE_Py_Execute(ctx._handle, device_name, op_name,\n\u001b[0;32m---> 60\u001b[0;31m                                         inputs, attrs, num_outputs)\n\u001b[0m\u001b[1;32m     61\u001b[0m   \u001b[0;32mexcept\u001b[0m \u001b[0mcore\u001b[0m\u001b[0;34m.\u001b[0m\u001b[0m_NotOkStatusException\u001b[0m \u001b[0;32mas\u001b[0m \u001b[0me\u001b[0m\u001b[0;34m:\u001b[0m\u001b[0;34m\u001b[0m\u001b[0;34m\u001b[0m\u001b[0m\n\u001b[1;32m     62\u001b[0m     \u001b[0;32mif\u001b[0m \u001b[0mname\u001b[0m \u001b[0;32mis\u001b[0m \u001b[0;32mnot\u001b[0m \u001b[0;32mNone\u001b[0m\u001b[0;34m:\u001b[0m\u001b[0;34m\u001b[0m\u001b[0;34m\u001b[0m\u001b[0m\n",
            "\u001b[0;31mKeyboardInterrupt\u001b[0m: "
          ]
        }
      ]
    },
    {
      "cell_type": "code",
      "metadata": {
        "id": "aoEtGrlFXndH",
        "colab_type": "code",
        "colab": {}
      },
      "source": [
        ""
      ],
      "execution_count": null,
      "outputs": []
    }
  ]
}