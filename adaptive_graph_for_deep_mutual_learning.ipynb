{
  "nbformat": 4,
  "nbformat_minor": 0,
  "metadata": {
    "colab": {
      "name": "adaptive graph for deep mutual learning.ipynb",
      "provenance": [],
      "machine_shape": "hm",
      "authorship_tag": "ABX9TyMh7vaGmm+Ps37NBVP4ZxAp",
      "include_colab_link": true
    },
    "kernelspec": {
      "name": "python3",
      "display_name": "Python 3"
    },
    "accelerator": "GPU"
  },
  "cells": [
    {
      "cell_type": "markdown",
      "metadata": {
        "id": "view-in-github",
        "colab_type": "text"
      },
      "source": [
        "<a href=\"https://colab.research.google.com/github/aryanasadianuoit/Adaptive-Graph-Based-Cohort-Creation-For-Deep-MutualLearning/blob/master/adaptive_graph_for_deep_mutual_learning.ipynb\" target=\"_parent\"><img src=\"https://colab.research.google.com/assets/colab-badge.svg\" alt=\"Open In Colab\"/></a>"
      ]
    },
    {
      "cell_type": "code",
      "metadata": {
        "id": "34Sl2zF6C9Dn",
        "colab_type": "code",
        "outputId": "0700b5d6-1771-4138-884b-2eab1fd529d4",
        "colab": {
          "base_uri": "https://localhost:8080/",
          "height": 1000
        }
      },
      "source": [
        "import tensorflow as tf\n",
        "import numpy as np\n",
        "from tensorflow import keras\n",
        "import theano\n",
        "from keras import backend\n",
        "from keras.losses import categorical_crossentropy as logloss\n",
        "from keras.layers import Lambda, concatenate, Activation\n",
        "import matplotlib.pyplot as plt\n",
        "\n",
        "cifar100 = keras.datasets.cifar100\n",
        "(training_images, training_labels), (testing_images, testing_labels) = cifar100.load_data()\n",
        "\n",
        "temperature = 5\n",
        "\n",
        "# Reshaping and normalizing the images\n",
        "\n",
        "training_images = training_images.reshape(50000, 32, 32, 3)\n",
        "training_images = training_images / 255.0\n",
        "testing_images = testing_images.reshape(10000, 32, 32, 3)\n",
        "testing_images = testing_images / 255.0\n",
        "\n",
        "cohort_list = []\n",
        "\n",
        "\n",
        "def train_basic():\n",
        "    print(\"Initial training\")\n",
        "    basic_model = keras.models.Sequential([keras.layers.Conv2D(filters=32, kernel_size=(3, 3),\n",
        "                                                               activation=keras.activations.relu,\n",
        "                                                               input_shape=(32, 32, 3)),\n",
        "                                           keras.layers.MaxPool2D(2, 2),\n",
        "                                           keras.layers.Conv2D(filters=64, kernel_size=(3, 3),\n",
        "                                                               activation=keras.activations.relu),\n",
        "                                           keras.layers.MaxPool2D(2, 2),\n",
        "                                           keras.layers.Flatten(),\n",
        "                                           keras.layers.Dense(units=256, activation=keras.activations.relu),\n",
        "                                           keras.layers.Dense(units=100, activation=keras.activations.relu),\n",
        "                                           keras.layers.Dense(units=100, activation=keras.activations.softmax)])\n",
        "    #basic_model.summary()\n",
        "    basic_model.compile(optimizer=keras.optimizers.Adam(),\n",
        "                        loss=keras.losses.sparse_categorical_crossentropy,\n",
        "                        metrics=[\"accuracy\"])\n",
        "    history = basic_model.fit(x=training_images, y=training_labels, epochs=2, verbose=1)\n",
        "    print(history.history.keys())\n",
        "    # Plot training & validation accuracy values\n",
        "    plt.plot(history.history['accuracy'])\n",
        "    plt.plot(history.history['accuracy'])\n",
        "    plt.title('model accuracy')\n",
        "    plt.ylabel('accuracy')\n",
        "    plt.xlabel('epoch')\n",
        "    plt.legend(['train', 'test'], loc='upper left')\n",
        "    plt.show()\n",
        "    # summarize history for loss\n",
        "    plt.plot(history.history['loss'])\n",
        "    plt.plot(history.history['loss'])\n",
        "    plt.title('model loss')\n",
        "    plt.ylabel('loss')\n",
        "    plt.xlabel('epoch')\n",
        "    plt.legend(['train', 'test'], loc='upper left')\n",
        "    plt.show()  \n",
        "    # summarize history for loss\n",
        "    plt.plot(history.history['top_k_categorical_accuracy'])\n",
        "    plt.plot(history.history['top_k_categorical_accuracy'])\n",
        "    plt.title('model top_k_categorical_accuracy')\n",
        "    plt.ylabel('top_k_categorical_accuracy')\n",
        "    plt.xlabel('epoch')\n",
        "    plt.legend(['train', 'test'], loc='upper left')\n",
        "    plt.show()  \n",
        "\n",
        "    return basic_model\n",
        "\n",
        "\n",
        "def get_logits(basic_model):\n",
        "    intermediate_input = basic_model.input\n",
        "    intermediate_output = basic_model.get_layer(index=-2).output\n",
        "    intermediate_layer_model = keras.models.Model(inputs=intermediate_input, outputs=intermediate_output)\n",
        "    intermediate_output = intermediate_layer_model.predict(x=training_images)\n",
        "    return np.array(intermediate_output)\n",
        "\n",
        "\n",
        "def get_probabilities(basic_model):\n",
        "    softmax_layer = keras.models.Model(inputs=basic_model.input,\n",
        "                                       outputs=basic_model.get_layer(index=-1).output)\n",
        "    probabilities = softmax_layer.predict(x=training_images)\n",
        "    return np.array(probabilities)\n",
        "\n",
        "\n",
        "def get_high_temp_probabilities(basic_model):\n",
        "    intermediate_layer_model = keras.models.Model(inputs=basic_model.input,\n",
        "                                                  outputs=basic_model.get_layer(index=-1).output)\n",
        "    intermediate_output = intermediate_layer_model.predict(x=training_images)\n",
        "    intermediate_output = np.array(intermediate_output) ** (1 / temperature)\n",
        "    p_sum = intermediate_output.sum()\n",
        "    sample_temp = intermediate_output / p_sum\n",
        "    return sample_temp\n",
        "\n",
        "\n",
        "def deep_mutual_training():\n",
        "    for node in cohort_list:\n",
        "        for other_nodes in range(0, len(cohort_list)):\n",
        "            if node is other_nodes:\n",
        "                print(\"Same student\")\n",
        "\n",
        "            else:\n",
        "               # print(\"Before reshape : \", np.shape(get_high_temp_probabilities(cohort_list[other_nodes])),\"   \",np.shape(get_high_temp_probabilities(node)))\n",
        "                truth = np.reshape(get_high_temp_probabilities(cohort_list[other_nodes]), newshape=-1)\n",
        "                preds = np.reshape(get_high_temp_probabilities(node), newshape=-1)\n",
        "\n",
        "               # print(\"After reshape : \", np.shape(truth),\"   \",np.shape(preds))\n",
        "               # print(\"Shapes input : \",np.shape(training_images),\"  Shape of Labels : \",np.shape(training_labels))\n",
        "\n",
        "                node.compile(optimizer=keras.optimizers.Adam(),\n",
        "                             loss=lambda truth, preds: knowledge_distillation_loss(truth, preds),\n",
        "                             metrics=['accuracy'])\n",
        "                print(\"Distillation Training\")\n",
        "                node.fit(x=training_images, y=get_high_temp_probabilities(cohort_list[other_nodes]),\n",
        "                         epochs=10, verbose=1)\n",
        "\n",
        "def knowledge_distillation_loss(y_true, y_pred):    \n",
        "    \n",
        "    # split in \n",
        "    #    onehot hard true targets\n",
        "    #    logits from xception\n",
        "    y_true, logits = y_true[:, :100], y_true[:, 100:]\n",
        "    \n",
        "    # convert logits to soft targets\n",
        "    y_soft = backend.softmax(logits/temperature)\n",
        "    \n",
        "    # split in \n",
        "    #    usual output probabilities\n",
        "    #    probabilities made softer with temperature\n",
        "    y_pred, y_pred_soft = y_pred[:, :100], y_pred[:, 100:]    \n",
        "    \n",
        "    return 2*logloss(y_true, y_pred) + logloss(y_soft, y_pred_soft)\n",
        "\n",
        "print(\"Model 1 : \")\n",
        "cohort_list.append(train_basic())\n",
        "print(\"Model 2 : \")\n",
        "cohort_list.append(train_basic())\n",
        "\n",
        "#for node in cohort_list:\n",
        "    #print(\"Node : \", node)\n",
        "    #print(get_logits(node))\n",
        "    #print(\"********************************\")\n",
        "    #print(get_probabilities(node))\n",
        "    #print(\"********************************\")\n",
        "    #print(get_high_temp_probabilities(node))\n",
        "    #print(\"###############################\\n\\n\")\n",
        "\n",
        "deep_mutual_training()\n",
        "\n"
      ],
      "execution_count": 22,
      "outputs": [
        {
          "output_type": "stream",
          "text": [
            "Model 1 : \n",
            "Initial training\n",
            "Epoch 1/2\n",
            "1563/1563 [==============================] - 4s 3ms/step - loss: 3.7302 - accuracy: 0.1304\n",
            "Epoch 2/2\n",
            "1563/1563 [==============================] - 4s 3ms/step - loss: 2.9725 - accuracy: 0.2621\n",
            "dict_keys(['loss', 'accuracy'])\n"
          ],
          "name": "stdout"
        },
        {
          "output_type": "display_data",
          "data": {
            "image/png": "[encoded data removed]",
            "text/plain": [
              "<Figure size 432x288 with 1 Axes>"
            ]
          },
          "metadata": {
            "tags": [],
            "needs_background": "light"
          }
        },
        {
          "output_type": "display_data",
          "data": {
            "image/png": "[encoded data removed]",
            "text/plain": [
              "<Figure size 432x288 with 1 Axes>"
            ]
          },
          "metadata": {
            "tags": [],
            "needs_background": "light"
          }
        },
        {
          "output_type": "error",
          "ename": "KeyError",
          "evalue": "ignored",
          "traceback": [
            "\u001b[0;31m---------------------------------------------------------------------------\u001b[0m",
            "\u001b[0;31mKeyError\u001b[0m                                  Traceback (most recent call last)",
            "\u001b[0;32m<ipython-input-22-9062e2c9bb2e>\u001b[0m in \u001b[0;36m<module>\u001b[0;34m()\u001b[0m\n\u001b[1;32m    134\u001b[0m \u001b[0;34m\u001b[0m\u001b[0m\n\u001b[1;32m    135\u001b[0m \u001b[0mprint\u001b[0m\u001b[0;34m(\u001b[0m\u001b[0;34m\"Model 1 : \"\u001b[0m\u001b[0;34m)\u001b[0m\u001b[0;34m\u001b[0m\u001b[0;34m\u001b[0m\u001b[0m\n\u001b[0;32m--> 136\u001b[0;31m \u001b[0mcohort_list\u001b[0m\u001b[0;34m.\u001b[0m\u001b[0mappend\u001b[0m\u001b[0;34m(\u001b[0m\u001b[0mtrain_basic\u001b[0m\u001b[0;34m(\u001b[0m\u001b[0;34m)\u001b[0m\u001b[0;34m)\u001b[0m\u001b[0;34m\u001b[0m\u001b[0;34m\u001b[0m\u001b[0m\n\u001b[0m\u001b[1;32m    137\u001b[0m \u001b[0mprint\u001b[0m\u001b[0;34m(\u001b[0m\u001b[0;34m\"Model 2 : \"\u001b[0m\u001b[0;34m)\u001b[0m\u001b[0;34m\u001b[0m\u001b[0;34m\u001b[0m\u001b[0m\n\u001b[1;32m    138\u001b[0m \u001b[0mcohort_list\u001b[0m\u001b[0;34m.\u001b[0m\u001b[0mappend\u001b[0m\u001b[0;34m(\u001b[0m\u001b[0mtrain_basic\u001b[0m\u001b[0;34m(\u001b[0m\u001b[0;34m)\u001b[0m\u001b[0;34m)\u001b[0m\u001b[0;34m\u001b[0m\u001b[0;34m\u001b[0m\u001b[0m\n",
            "\u001b[0;32m<ipython-input-22-9062e2c9bb2e>\u001b[0m in \u001b[0;36mtrain_basic\u001b[0;34m()\u001b[0m\n\u001b[1;32m     59\u001b[0m     \u001b[0mplt\u001b[0m\u001b[0;34m.\u001b[0m\u001b[0mshow\u001b[0m\u001b[0;34m(\u001b[0m\u001b[0;34m)\u001b[0m\u001b[0;34m\u001b[0m\u001b[0;34m\u001b[0m\u001b[0m\n\u001b[1;32m     60\u001b[0m     \u001b[0;31m# summarize history for loss\u001b[0m\u001b[0;34m\u001b[0m\u001b[0;34m\u001b[0m\u001b[0;34m\u001b[0m\u001b[0m\n\u001b[0;32m---> 61\u001b[0;31m     \u001b[0mplt\u001b[0m\u001b[0;34m.\u001b[0m\u001b[0mplot\u001b[0m\u001b[0;34m(\u001b[0m\u001b[0mhistory\u001b[0m\u001b[0;34m.\u001b[0m\u001b[0mhistory\u001b[0m\u001b[0;34m[\u001b[0m\u001b[0;34m'top_k_categorical_accuracy'\u001b[0m\u001b[0;34m]\u001b[0m\u001b[0;34m)\u001b[0m\u001b[0;34m\u001b[0m\u001b[0;34m\u001b[0m\u001b[0m\n\u001b[0m\u001b[1;32m     62\u001b[0m     \u001b[0mplt\u001b[0m\u001b[0;34m.\u001b[0m\u001b[0mplot\u001b[0m\u001b[0;34m(\u001b[0m\u001b[0mhistory\u001b[0m\u001b[0;34m.\u001b[0m\u001b[0mhistory\u001b[0m\u001b[0;34m[\u001b[0m\u001b[0;34m'top_k_categorical_accuracy'\u001b[0m\u001b[0;34m]\u001b[0m\u001b[0;34m)\u001b[0m\u001b[0;34m\u001b[0m\u001b[0;34m\u001b[0m\u001b[0m\n\u001b[1;32m     63\u001b[0m     \u001b[0mplt\u001b[0m\u001b[0;34m.\u001b[0m\u001b[0mtitle\u001b[0m\u001b[0;34m(\u001b[0m\u001b[0;34m'model top_k_categorical_accuracy'\u001b[0m\u001b[0;34m)\u001b[0m\u001b[0;34m\u001b[0m\u001b[0;34m\u001b[0m\u001b[0m\n",
            "\u001b[0;31mKeyError\u001b[0m: 'top_k_categorical_accuracy'"
          ]
        }
      ]
    }
  ]
}